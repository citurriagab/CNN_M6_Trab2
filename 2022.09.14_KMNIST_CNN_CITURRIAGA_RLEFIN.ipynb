{
  "cells": [
    {
      "cell_type": "markdown",
      "metadata": {
        "id": "view-in-github",
        "colab_type": "text"
      },
      "source": [
        "<a href=\"https://colab.research.google.com/github/citurriagab/CNN_M6_Trab2/blob/main/2022.09.14_KMNIST_CNN_CITURRIAGA_RLEFIN.ipynb\" target=\"_parent\"><img src=\"https://colab.research.google.com/assets/colab-badge.svg\" alt=\"Open In Colab\"/></a>"
      ]
    },
    {
      "cell_type": "markdown",
      "metadata": {
        "id": "a2f7e3dd"
      },
      "source": [
        "### Trabajo N° 2\n",
        "\n",
        "#### Deep Learning \n",
        "\n",
        "**Análisis Supervisado**\n",
        "\n",
        "**Clasificación**\n",
        "\n",
        "*Carla Iturriaga Barrios*\n",
        "\n",
        "*Rodrigo Lefin Carrasco*\n",
        "\n",
        "Septiembre, 2022"
      ],
      "id": "a2f7e3dd"
    },
    {
      "cell_type": "markdown",
      "metadata": {
        "id": "OQQ5SQU-nwfB"
      },
      "source": [
        "### Presentación del proyecto.\n",
        "\n",
        "*Una empresa de consultoria que presta servicios de traducción, utilizando herramientas de Deep Learning, tiene un nuevo cliente que requiere **identificar letras del japonés clásico pero desde imágenes**.*\n",
        "\n",
        "**Fuente de datos**: *Dataset correspondiente a imagenes de datos reimpresos del japonés clásico \"Kuzushiji\" obtenido directamente de la librería pytorch*"
      ],
      "id": "OQQ5SQU-nwfB"
    },
    {
      "cell_type": "markdown",
      "metadata": {
        "id": "fOACytchpSS6"
      },
      "source": [
        "### Objetivo del proyecto.\n",
        "\n",
        "1. *Construir un modelo que sea capaz de clasificar y categorizar en letras del japonés clásico un conjunto de imágenes de la letra desde textos reimpresos.*\n",
        "\n",
        "**Se establece como valor minimo deseable que las predicciones, del modelo construido, sean correctas en al menos un 80%.**"
      ],
      "id": "fOACytchpSS6"
    },
    {
      "cell_type": "markdown",
      "metadata": {
        "id": "5cAciMwnuxWa"
      },
      "source": [
        "### Preparación del entorno"
      ],
      "id": "5cAciMwnuxWa"
    },
    {
      "cell_type": "code",
      "execution_count": 1,
      "metadata": {
        "id": "2b2f4160"
      },
      "outputs": [],
      "source": [
        "from torchvision import datasets\n",
        "from torchvision import transforms \n",
        "import torch\n",
        "import torch.nn as nn\n",
        "import torch.nn.functional as F\n",
        "from matplotlib import pyplot as plt\n",
        "import datetime\n",
        "import torchvision\n",
        "import numpy as np\n",
        "from sklearn.metrics import accuracy_score, precision_score, recall_score, roc_auc_score, f1_score"
      ],
      "id": "2b2f4160"
    },
    {
      "cell_type": "markdown",
      "metadata": {
        "id": "TNHtQKbHu26S"
      },
      "source": [
        "### 1: Datos"
      ],
      "id": "TNHtQKbHu26S"
    },
    {
      "cell_type": "markdown",
      "metadata": {
        "id": "Ac85q8x0rEZF"
      },
      "source": [
        "*Los siguientes datos corresponden a una base de 70.000 imagenes de 28x28 con la reimpresión de textos japoneses. La categorización de ellas se divide en 10 clases correspondientes a letras del japonés clásico, tales como: **'o', 'ki', 'su', 'tsu', etc**.*"
      ],
      "id": "Ac85q8x0rEZF"
    },
    {
      "cell_type": "code",
      "execution_count": 2,
      "metadata": {
        "colab": {
          "base_uri": "https://localhost:8080/",
          "height": 422,
          "referenced_widgets": [
            "c4845191b04042009572db6a3d993845",
            "94af1a13d4c64381832a44013afba2af",
            "b79abd0cb55b4767bef7d86a7a2ed437",
            "774f7a1dfeba40d4aa767657d83aae46",
            "32263cb8bda149749f4f0374b7c70823",
            "422c851c33bb491aa0be79c651864819",
            "c2b91e20c49e47979f52494215d681e0",
            "7911940c91bd47fda52b084a58d1c47c",
            "e3d359329f904e5c92ce318ce157be96",
            "bf0a1080a3ed44e0a8f955f799d5bc9a",
            "09da33184348480aa7ec7614e386468f",
            "f94b8493d0594feca0d3c0d849456259",
            "b7ddd713e0ee409fba30c9e86ad25739",
            "964bab78e5a64473b28190b0f27e2c94",
            "059269f582704b8ca8bef2eb15f821e2",
            "a78398539d504cbea86194db83401111",
            "f44a3f22f30641fbab2c93c92a91c325",
            "0d8125869ff24769b1b1b18a3e7a87b0",
            "382c97a633714f1c8ecd16c735926861",
            "53e1c8739d744622b185d7c22bce2d66",
            "1d236e3c12504f21ae520f1e00889966",
            "5bf483684e204bf3b72e4a55d8264740",
            "67509269bdec4548be0639fe63130356",
            "176733e1452d4a108179430972955f51",
            "b1e1f2631e5d4d30911e6a834ea61c9a",
            "226735cdeb164aacaf2416a75a678e67",
            "ad50d92308a84eb58825dec77a3f1c2d",
            "69759c22598947b2a8e6d194e4b01c80",
            "819c5becb18b4b9f9522305fe5f3db99",
            "381922cef6c34f7aa9f86bcf074879f5",
            "9d4e9afadbb344a987bc19c68964233e",
            "5cd657cf1d3e469f85fd1b82f9b95fd5",
            "b45022a4bdcc48aa9ff1c7082c6b88ea",
            "e78da54abf1944cba3ffe63c4859aab6",
            "9706adeadec04a6e9c8d8eb4437ff512",
            "b171eb44a71c441684b1530c7cb3313f",
            "23524ac6cb6b408a9428ae4575dcfaa8",
            "be3bbc1705e148b6bb0635b33191f816",
            "0bf220a1bab44890964ac4bcfdd3bcd4",
            "622ec7ae7f43448da2f3dc0b8fc94488",
            "67cd35d6857f4bfbac12a4f1759ba17a",
            "f30c5fd3ef6245a988a5977d1c059cfc",
            "8524f3c2b87c4d86a4de98563cecb1f0",
            "d148831ff58044b88de39733e9e102cb"
          ]
        },
        "id": "LxWubopMwATj",
        "outputId": "5b08ce0a-5ecb-49f7-a8cd-a4fc82ab70d5"
      },
      "outputs": [
        {
          "output_type": "stream",
          "name": "stdout",
          "text": [
            "Downloading http://codh.rois.ac.jp/kmnist/dataset/kmnist/train-images-idx3-ubyte.gz\n",
            "Downloading http://codh.rois.ac.jp/kmnist/dataset/kmnist/train-images-idx3-ubyte.gz to ./data/KMNIST/raw/train-images-idx3-ubyte.gz\n"
          ]
        },
        {
          "output_type": "display_data",
          "data": {
            "text/plain": [
              "  0%|          | 0/18165135 [00:00<?, ?it/s]"
            ],
            "application/vnd.jupyter.widget-view+json": {
              "version_major": 2,
              "version_minor": 0,
              "model_id": "c4845191b04042009572db6a3d993845"
            }
          },
          "metadata": {}
        },
        {
          "output_type": "stream",
          "name": "stdout",
          "text": [
            "Extracting ./data/KMNIST/raw/train-images-idx3-ubyte.gz to ./data/KMNIST/raw\n",
            "\n",
            "Downloading http://codh.rois.ac.jp/kmnist/dataset/kmnist/train-labels-idx1-ubyte.gz\n",
            "Downloading http://codh.rois.ac.jp/kmnist/dataset/kmnist/train-labels-idx1-ubyte.gz to ./data/KMNIST/raw/train-labels-idx1-ubyte.gz\n"
          ]
        },
        {
          "output_type": "display_data",
          "data": {
            "text/plain": [
              "  0%|          | 0/29497 [00:00<?, ?it/s]"
            ],
            "application/vnd.jupyter.widget-view+json": {
              "version_major": 2,
              "version_minor": 0,
              "model_id": "f94b8493d0594feca0d3c0d849456259"
            }
          },
          "metadata": {}
        },
        {
          "output_type": "stream",
          "name": "stdout",
          "text": [
            "Extracting ./data/KMNIST/raw/train-labels-idx1-ubyte.gz to ./data/KMNIST/raw\n",
            "\n",
            "Downloading http://codh.rois.ac.jp/kmnist/dataset/kmnist/t10k-images-idx3-ubyte.gz\n",
            "Downloading http://codh.rois.ac.jp/kmnist/dataset/kmnist/t10k-images-idx3-ubyte.gz to ./data/KMNIST/raw/t10k-images-idx3-ubyte.gz\n"
          ]
        },
        {
          "output_type": "display_data",
          "data": {
            "text/plain": [
              "  0%|          | 0/3041136 [00:00<?, ?it/s]"
            ],
            "application/vnd.jupyter.widget-view+json": {
              "version_major": 2,
              "version_minor": 0,
              "model_id": "67509269bdec4548be0639fe63130356"
            }
          },
          "metadata": {}
        },
        {
          "output_type": "stream",
          "name": "stdout",
          "text": [
            "Extracting ./data/KMNIST/raw/t10k-images-idx3-ubyte.gz to ./data/KMNIST/raw\n",
            "\n",
            "Downloading http://codh.rois.ac.jp/kmnist/dataset/kmnist/t10k-labels-idx1-ubyte.gz\n",
            "Downloading http://codh.rois.ac.jp/kmnist/dataset/kmnist/t10k-labels-idx1-ubyte.gz to ./data/KMNIST/raw/t10k-labels-idx1-ubyte.gz\n"
          ]
        },
        {
          "output_type": "display_data",
          "data": {
            "text/plain": [
              "  0%|          | 0/5120 [00:00<?, ?it/s]"
            ],
            "application/vnd.jupyter.widget-view+json": {
              "version_major": 2,
              "version_minor": 0,
              "model_id": "e78da54abf1944cba3ffe63c4859aab6"
            }
          },
          "metadata": {}
        },
        {
          "output_type": "stream",
          "name": "stdout",
          "text": [
            "Extracting ./data/KMNIST/raw/t10k-labels-idx1-ubyte.gz to ./data/KMNIST/raw\n",
            "\n"
          ]
        }
      ],
      "source": [
        "path = './data/'\n",
        "\n",
        "# configuración de dataset de entrenamiento y de prueba\n",
        "df = datasets.KMNIST(path, train=True, download=True)\n",
        "df_test = datasets.KMNIST(path, train=False, download=True)"
      ],
      "id": "LxWubopMwATj"
    },
    {
      "cell_type": "code",
      "execution_count": 3,
      "metadata": {
        "colab": {
          "base_uri": "https://localhost:8080/"
        },
        "id": "gZdFVC0lxooW",
        "outputId": "84059861-4229-41bb-d719-b161926f1b9a"
      },
      "outputs": [
        {
          "output_type": "stream",
          "name": "stdout",
          "text": [
            "Registros de entrenamiento: 60000\n",
            "Registros de prueba: 10000\n"
          ]
        }
      ],
      "source": [
        "# Largo del dataset\n",
        "print('Registros de entrenamiento:', len(df))\n",
        "print('Registros de prueba:', len(df_test))"
      ],
      "id": "gZdFVC0lxooW"
    },
    {
      "cell_type": "code",
      "execution_count": 4,
      "metadata": {
        "colab": {
          "base_uri": "https://localhost:8080/"
        },
        "id": "3u3nNhXlx0d_",
        "outputId": "35e56873-35f7-4efe-ead4-df06712ea68a"
      },
      "outputs": [
        {
          "output_type": "execute_result",
          "data": {
            "text/plain": [
              "['o', 'ki', 'su', 'tsu', 'na', 'ha', 'ma', 'ya', 're', 'wo']"
            ]
          },
          "metadata": {},
          "execution_count": 4
        }
      ],
      "source": [
        "# Especificación de las etiquetas/label\n",
        "df.classes"
      ],
      "id": "3u3nNhXlx0d_"
    },
    {
      "cell_type": "markdown",
      "metadata": {
        "id": "SQHUf--KtdDS"
      },
      "source": [
        "#### Previsualización de imagenes del dataset\n",
        "\n",
        "*En adelante, se muestran algunos ejemplares de los registros del dataset KMNIST, correspondiente a la letra en compañía con su etiqueta o clase*"
      ],
      "id": "SQHUf--KtdDS"
    },
    {
      "cell_type": "code",
      "execution_count": 5,
      "metadata": {
        "colab": {
          "base_uri": "https://localhost:8080/",
          "height": 282
        },
        "id": "uRzgApSDxFAj",
        "outputId": "8f07ed8d-ccc7-4a4f-e579-03274b747a15"
      },
      "outputs": [
        {
          "output_type": "stream",
          "name": "stdout",
          "text": [
            "la siguiente imagen corresponde al label: 5 correspondiente a: ha\n"
          ]
        },
        {
          "output_type": "display_data",
          "data": {
            "text/plain": [
              "<Figure size 432x288 with 1 Axes>"
            ],
            "image/png": "[encoded data removed]"
          },
          "metadata": {
            "needs_background": "light"
          }
        }
      ],
      "source": [
        "#Previsualización de una imagen dentro del dataset\n",
        "img, label = df[10]\n",
        "plt.imshow(img)\n",
        "print('la siguiente imagen corresponde al label:', label, 'correspondiente a:', df.classes[label])\n",
        "plt.show()"
      ],
      "id": "uRzgApSDxFAj"
    },
    {
      "cell_type": "code",
      "execution_count": 6,
      "metadata": {
        "colab": {
          "base_uri": "https://localhost:8080/",
          "height": 282
        },
        "id": "UqTbNX9AxkPW",
        "outputId": "e25ffc2c-e790-407a-c65c-6269e2fcfb92"
      },
      "outputs": [
        {
          "output_type": "stream",
          "name": "stdout",
          "text": [
            "la siguiente imagen corresponde al label: 2 correspondiente a: su\n"
          ]
        },
        {
          "output_type": "display_data",
          "data": {
            "text/plain": [
              "<Figure size 432x288 with 1 Axes>"
            ],
            "image/png": "[encoded data removed]"
          },
          "metadata": {
            "needs_background": "light"
          }
        }
      ],
      "source": [
        "#Previsualización de una imagen dentro del dataset\n",
        "img2, label2 = df[90]\n",
        "plt.imshow(img2)\n",
        "print('la siguiente imagen corresponde al label:', label2, 'correspondiente a:', df.classes[label2])\n",
        "plt.show()"
      ],
      "id": "UqTbNX9AxkPW"
    },
    {
      "cell_type": "code",
      "execution_count": 7,
      "metadata": {
        "colab": {
          "base_uri": "https://localhost:8080/",
          "height": 282
        },
        "id": "g0YxXIrjuiWe",
        "outputId": "165526bf-67f2-4c4f-f529-a626709b1e20"
      },
      "outputs": [
        {
          "output_type": "stream",
          "name": "stdout",
          "text": [
            "la siguiente imagen corresponde al label: 3 correspondiente a: tsu\n"
          ]
        },
        {
          "output_type": "display_data",
          "data": {
            "text/plain": [
              "<Figure size 432x288 with 1 Axes>"
            ],
            "image/png": "[encoded data removed]"
          },
          "metadata": {
            "needs_background": "light"
          }
        }
      ],
      "source": [
        "#Previsualización de una imagen dentro del dataset\n",
        "img3, label3 = df[25000]\n",
        "plt.imshow(img3)\n",
        "print('la siguiente imagen corresponde al label:', label3, 'correspondiente a:', df.classes[label3])\n",
        "plt.show()"
      ],
      "id": "g0YxXIrjuiWe"
    },
    {
      "cell_type": "markdown",
      "metadata": {
        "id": "VorRhgpyuqJ1"
      },
      "source": [
        "#### Transformación y Normalización de imagenes a tensor de PyTorch\n",
        "\n",
        "*Para seguir con el análisis y modelamiento, es requerido transformar los registros del dataset desde imágenes a tensores y, posteriormente, normalizar sus medidas de promedio y desviación estándar*"
      ],
      "id": "VorRhgpyuqJ1"
    },
    {
      "cell_type": "code",
      "execution_count": 8,
      "metadata": {
        "id": "wucg13EczE0U"
      },
      "outputs": [],
      "source": [
        "# Transformar data a tensor de pytorch y normalizar\n",
        "df = datasets.KMNIST(\n",
        "    path, train=True, download=True, \n",
        "    transform=transforms.Compose([\n",
        "        transforms.ToTensor(),\n",
        "        transforms.Normalize((0.5,),(0.5,)),\n",
        "        transforms.Lambda(lambda x: x.repeat(3, 1, 1))\n",
        "        \n",
        "    ])\n",
        ")\n",
        "\n",
        "df_test = datasets.KMNIST(\n",
        "    path, train=False, download=True, \n",
        "    transform=transforms.Compose([\n",
        "        transforms.ToTensor(),\n",
        "        transforms.Normalize((0.5,),(0.5,)),\n",
        "        transforms.Lambda(lambda x: x.repeat(3, 1, 1))\n",
        "\n",
        "    ])\n",
        ")"
      ],
      "id": "wucg13EczE0U"
    },
    {
      "cell_type": "markdown",
      "metadata": {
        "id": "_wQhcBNYvXpQ"
      },
      "source": [
        "#### Información del dataset\n",
        "\n",
        "*En adelante, se muestra la descripción del set de datos de entrenamiento y de testeo: Ambos con la definición de dimensión, ubicación y las transformaciones que se han aplicado*"
      ],
      "id": "_wQhcBNYvXpQ"
    },
    {
      "cell_type": "code",
      "execution_count": 9,
      "metadata": {
        "colab": {
          "base_uri": "https://localhost:8080/"
        },
        "id": "02z7M7An8gOs",
        "outputId": "32d868ba-8f10-4233-d286-759212aa3cc7"
      },
      "outputs": [
        {
          "output_type": "stream",
          "name": "stdout",
          "text": [
            "Entrenamiento:  Dataset KMNIST\n",
            "    Number of datapoints: 60000\n",
            "    Root location: ./data/\n",
            "    Split: Train\n",
            "    StandardTransform\n",
            "Transform: Compose(\n",
            "               ToTensor()\n",
            "               Normalize(mean=(0.5,), std=(0.5,))\n",
            "               Lambda()\n",
            "           )\n"
          ]
        }
      ],
      "source": [
        "print('Entrenamiento: ', df)"
      ],
      "id": "02z7M7An8gOs"
    },
    {
      "cell_type": "code",
      "execution_count": 10,
      "metadata": {
        "colab": {
          "base_uri": "https://localhost:8080/"
        },
        "id": "6raNRzykyNnj",
        "outputId": "c313086e-b724-40d2-c498-2da212a4f742"
      },
      "outputs": [
        {
          "output_type": "stream",
          "name": "stdout",
          "text": [
            "Prueba:  Dataset KMNIST\n",
            "    Number of datapoints: 10000\n",
            "    Root location: ./data/\n",
            "    Split: Test\n",
            "    StandardTransform\n",
            "Transform: Compose(\n",
            "               ToTensor()\n",
            "               Normalize(mean=(0.5,), std=(0.5,))\n",
            "               Lambda()\n",
            "           )\n"
          ]
        }
      ],
      "source": [
        "print('Prueba: ', df_test)"
      ],
      "id": "6raNRzykyNnj"
    },
    {
      "cell_type": "markdown",
      "metadata": {
        "id": "a-V_wfTmwqva"
      },
      "source": [
        "#### Visualización de los registros transformados en Tensores\n",
        "\n",
        "*En adelante, se genera una demostración gráfica del nuevo registro tensor*"
      ],
      "id": "a-V_wfTmwqva"
    },
    {
      "cell_type": "code",
      "execution_count": 11,
      "metadata": {
        "colab": {
          "base_uri": "https://localhost:8080/",
          "height": 300
        },
        "id": "jzSQMzCb0Aq0",
        "outputId": "a565cc17-3d2e-4d8e-d632-b3a90302561a"
      },
      "outputs": [
        {
          "output_type": "stream",
          "name": "stderr",
          "text": [
            "WARNING:matplotlib.image:Clipping input data to the valid range for imshow with RGB data ([0..1] for floats or [0..255] for integers).\n"
          ]
        },
        {
          "output_type": "stream",
          "name": "stdout",
          "text": [
            "La siguiente imagen corresponde al label: 5 correspondiente a: ha\n"
          ]
        },
        {
          "output_type": "display_data",
          "data": {
            "text/plain": [
              "<Figure size 432x288 with 1 Axes>"
            ],
            "image/png": "[encoded data removed]"
          },
          "metadata": {
            "needs_background": "light"
          }
        }
      ],
      "source": [
        "# Graficar la imagen transformada\n",
        "img_t, label = df[10]\n",
        "plt.imshow(torchvision.utils.make_grid(img_t, nrow=5).permute(1, 2, 0))\n",
        "print('La siguiente imagen corresponde al label:', label, 'correspondiente a:', df.classes[label])\n",
        "plt.show()"
      ],
      "id": "jzSQMzCb0Aq0"
    },
    {
      "cell_type": "markdown",
      "metadata": {
        "id": "3LP7wNot6kSL"
      },
      "source": [
        "### 2. Modelo\n",
        "\n",
        "*Dado el tipo de registros (imágenes) e información con la que se está trabajando en el presente proyecto, se decide configurar y entrenar el modelo **CNN** (Convolutional Neural Network)*\n",
        "\n",
        "*Para ello, se desarrolla, a continuación, la red neuronal con **2 hiden layers**, donde el registro de entrada al primer layer corresponde a un **input de 3 dimensiones** y la última **salida correspondería a 10 clases**.*"
      ],
      "id": "3LP7wNot6kSL"
    },
    {
      "cell_type": "code",
      "execution_count": 12,
      "metadata": {
        "id": "a7cfc5a9"
      },
      "outputs": [],
      "source": [
        "# Model \n",
        "class CNN(nn.Module):\n",
        "    \"\"\"Cada arquitectura es una forma funcional de la red.\"\"\"\n",
        "    def __init__(self):\n",
        "        super().__init__()\n",
        "        self.conv1 = nn.Conv2d(3, 16, kernel_size=3, padding=1) # convolutional layer\n",
        "        self.conv2 = nn.Conv2d(16, 8, kernel_size=3, padding=1) # convolutional layer\n",
        "        self.fc1 = nn.Linear(8 * 7 * 7, 32)                     # Fully connected\n",
        "        self.fc2 = nn.Linear(32, 10)                             # Fully connected\n",
        "\n",
        "    def forward(self, x): # input img\n",
        "        out = F.max_pool2d(torch.tanh(self.conv1(x)), 2)        # max pooling torch.Size([64, 3, 28, 28])\n",
        "        #print(out.shape)\n",
        "        out = F.max_pool2d(torch.tanh(self.conv2(out)), 2)      # max pooling\n",
        "        #print(out.shape)\n",
        "        out = out.view(-1, 8 * 7 * 7)                           # tranform the out\n",
        "        out = torch.tanh(self.fc1(out))\n",
        "        out = self.fc2(out)\n",
        "        return out  # dim: number of class"
      ],
      "id": "a7cfc5a9"
    },
    {
      "cell_type": "markdown",
      "metadata": {
        "id": "Inqy_deA0BfY"
      },
      "source": [
        "*En la siguiente **función de entrenamiento**, queda definido genericamente el proceso en bucle al que deben someterse las imágenes/tensores para entrenar el modelo, donde se tiene como input la cantidad de iteraciones (epochs), el modelo (CNN), optimizador, la función de error y la definición de los batches*"
      ],
      "id": "Inqy_deA0BfY"
    },
    {
      "cell_type": "code",
      "execution_count": 13,
      "metadata": {
        "id": "43d63284"
      },
      "outputs": [],
      "source": [
        "# Training function \n",
        "def training_loop(n_epochs, optimizer, model, loss_fn, train_loader):\n",
        "    loss_list = []\n",
        "    for epoch in range(1, n_epochs + 1):\n",
        "        loss_train = 0.0 \n",
        "        for imgs, labels in train_loader:  # batch \n",
        "            outputs = model(imgs)\n",
        "            loss = loss_fn(outputs, labels)\n",
        "            optimizer.zero_grad()\n",
        "            loss.backward()               # backpro\n",
        "            optimizer.step()              # update w\n",
        "            \n",
        "            loss_train += loss.item()\n",
        "        if epoch == 1 or epoch % 20 == 0:\n",
        "            print('Epoch {}, Training loss {}'.format(epoch,\n",
        "            loss_train / len(train_loader)))\n",
        "            loss_list.append(loss_train / len(train_loader))\n",
        "    return loss_list\n",
        "            "
      ],
      "id": "43d63284"
    },
    {
      "cell_type": "markdown",
      "metadata": {
        "id": "zefiuhZJwhPw"
      },
      "source": [
        "#### Entrenando el modelo...\n",
        "\n",
        "*Se ha decidido establecer dos escenarios para entrenar y evaluar el modelo CNN, como anteriormente se definió, donde:*\n",
        "\n",
        "1. **Primer Escenario**\n",
        "\n",
        "  * *El **Optimizador** definido será **SGD**, como punto inicial.*\n",
        "\n",
        "  * *En cuanto a la **Función de pérdida**, se utilizará **Cross Entropy** ya que este proyecto es de clasificación*\n",
        "\n",
        "2. **Segundo Escenario**\n",
        "\n",
        "  * *El **Optimizador** definido será **Adam**, dado que al ser una versión más actual y al estar construido en base a SGD, se espera un rendimiento superior en sus resultados*\n",
        "\n",
        "  * *Mientras que, la **Función de pérdida** seguirá siendo **Cross Entropy** ya que este proyecto es de clasificación*"
      ],
      "id": "zefiuhZJwhPw"
    },
    {
      "cell_type": "markdown",
      "metadata": {
        "id": "N2rrI38D6jJs"
      },
      "source": [
        "**Hiperparámetros (W)**\n",
        "\n",
        "*En términos de los hiperparametros del modelo CNN:*\n",
        "\n",
        "- **Batches**: Se optará por **64**, en ambos escenarios, para la división de la base de datos.\n",
        "\n",
        "- **Learning Rate (lr)**: Este se definirá como **0.1 para el Primer escenario** y **0.01 en el caso del Segundo escenario**, con la intención de buscar el valor óptimo del error.\n",
        "\n",
        "- **Epochs**: La cantidad de iteraciones serán **200**, dado que se requiere un número alto, dado el volumen de los datos, para la búsqueda del valor óptimo y disminuir lo más posible el error."
      ],
      "id": "N2rrI38D6jJs"
    },
    {
      "cell_type": "code",
      "execution_count": 14,
      "metadata": {
        "colab": {
          "base_uri": "https://localhost:8080/"
        },
        "id": "ACpxJY9Z1pQ0",
        "outputId": "7bfef8f0-e01d-4cd2-b6d4-bdd4005440d6"
      },
      "outputs": [
        {
          "output_type": "execute_result",
          "data": {
            "text/plain": [
              "torch.Size([64, 8, 8, 8])"
            ]
          },
          "metadata": {},
          "execution_count": 14
        }
      ],
      "source": [
        "torch.randn(64,8,8,8).shape"
      ],
      "id": "ACpxJY9Z1pQ0"
    },
    {
      "cell_type": "code",
      "execution_count": 15,
      "metadata": {
        "id": "UZM8HydN6viW"
      },
      "outputs": [],
      "source": [
        "# Dataloader\n",
        "train_loader = torch.utils.data.DataLoader(df, batch_size=64, shuffle=True)"
      ],
      "id": "UZM8HydN6viW"
    },
    {
      "cell_type": "code",
      "execution_count": 16,
      "metadata": {
        "id": "vGMS1IfnOCQv"
      },
      "outputs": [],
      "source": [
        "model=CNN()"
      ],
      "id": "vGMS1IfnOCQv"
    },
    {
      "cell_type": "code",
      "execution_count": 17,
      "metadata": {
        "colab": {
          "base_uri": "https://localhost:8080/"
        },
        "id": "U5vvARtm0iSB",
        "outputId": "dfa3580a-88c1-4a32-89f1-774c796186c8"
      },
      "outputs": [
        {
          "output_type": "stream",
          "name": "stdout",
          "text": [
            "tensor([[-1.3193e-01,  1.6839e-01,  2.0357e-01,  1.0512e-01, -1.1077e-01,\n",
            "         -1.2190e-01, -1.2630e-01,  1.3499e-02,  2.4893e-01, -1.0749e-01],\n",
            "        [-1.7658e-01,  1.0743e-01,  1.7414e-01,  2.8687e-02, -2.1235e-01,\n",
            "         -1.3461e-01, -2.4790e-01, -1.1312e-01,  2.0225e-01, -9.2920e-02],\n",
            "        [-2.5604e-01,  7.2910e-02,  1.6920e-01, -4.0539e-02, -2.6084e-01,\n",
            "         -1.7835e-01, -2.7757e-01, -8.6886e-02,  2.4419e-01, -8.4314e-02],\n",
            "        [-1.2392e-01,  1.5715e-01,  1.5822e-01,  2.5602e-03, -7.9887e-02,\n",
            "         -4.0676e-02, -2.1236e-01, -1.4659e-01,  1.6345e-01, -1.0528e-01],\n",
            "        [-1.8117e-01,  2.8164e-02,  1.8620e-01,  3.2790e-03, -1.6261e-01,\n",
            "         -7.0381e-02, -1.9787e-01, -1.3725e-02,  1.5156e-01, -1.3499e-01],\n",
            "        [-2.1153e-01,  9.3497e-02,  2.9676e-01,  7.1985e-02, -1.5213e-01,\n",
            "         -7.7618e-02, -1.8758e-01, -9.0568e-02,  2.1455e-01, -1.1054e-01],\n",
            "        [-1.7542e-01,  1.7223e-01,  1.1095e-01,  1.0938e-01, -1.4471e-01,\n",
            "         -1.3448e-01, -1.9321e-01, -1.2936e-01,  3.0155e-01, -9.5822e-02],\n",
            "        [-1.9737e-01,  6.5583e-02,  2.9002e-01,  6.9985e-02, -1.2350e-01,\n",
            "         -7.5899e-03, -1.9213e-01, -5.1061e-02,  4.4435e-02, -1.0639e-01],\n",
            "        [-1.2751e-01,  1.0829e-01,  2.7318e-01,  8.7081e-03, -8.0486e-02,\n",
            "         -8.9919e-02, -2.4814e-01, -4.8016e-02,  3.0234e-01, -1.0592e-01],\n",
            "        [-1.7647e-01,  2.1317e-01,  1.8934e-01,  5.6565e-02, -1.7806e-01,\n",
            "         -6.7606e-02, -2.5894e-01, -5.0108e-02,  1.4390e-01, -7.9645e-02],\n",
            "        [-3.3841e-01,  2.5411e-02,  3.1073e-01, -3.4372e-02, -1.5301e-01,\n",
            "         -4.5326e-02, -1.7517e-01, -2.6697e-02,  1.5954e-01, -1.5303e-01],\n",
            "        [-2.0737e-01,  1.4627e-01,  2.0157e-01, -1.2930e-02, -2.0139e-01,\n",
            "         -1.7148e-01, -2.3719e-01, -8.6735e-02,  2.4841e-01, -1.0322e-01],\n",
            "        [-2.8965e-01,  2.5379e-02,  1.6573e-01,  8.8372e-03, -7.8238e-02,\n",
            "         -1.0207e-05, -1.9477e-01, -2.7877e-01,  2.0438e-01, -1.5015e-01],\n",
            "        [-2.7661e-01,  8.1108e-02,  2.2602e-01, -1.0619e-02, -2.3560e-01,\n",
            "         -7.7695e-02, -1.3247e-01, -9.1932e-02,  1.1311e-01, -1.5517e-01],\n",
            "        [-2.1865e-01,  1.1272e-01,  1.2099e-01,  2.8526e-03, -2.3156e-01,\n",
            "         -1.4590e-01, -2.5883e-01, -9.1838e-02,  3.0119e-01, -9.8269e-02],\n",
            "        [-2.3294e-01,  8.7994e-02,  1.8122e-01,  8.3833e-02, -1.9964e-01,\n",
            "         -4.2545e-02, -2.5810e-01, -1.5982e-01,  1.1551e-01, -1.3838e-01],\n",
            "        [-1.9419e-01,  1.4081e-01,  1.6713e-01,  2.0640e-02, -2.4948e-01,\n",
            "         -1.6316e-01, -2.9502e-01, -7.1777e-02,  2.3482e-01, -7.4260e-02],\n",
            "        [-1.8139e-01,  1.3207e-01,  1.2410e-01, -1.2848e-02, -1.5460e-01,\n",
            "         -9.5254e-02, -2.4068e-01, -2.7640e-03,  2.1481e-01, -9.2399e-02],\n",
            "        [-1.7619e-01,  1.3639e-01,  3.0945e-01,  4.8598e-02, -1.3691e-01,\n",
            "         -6.0881e-02, -2.0426e-01, -1.5297e-01,  1.5444e-01, -1.6258e-01],\n",
            "        [-1.8465e-01,  6.7110e-02,  1.9568e-01,  9.3289e-02, -1.8043e-01,\n",
            "         -9.7942e-02, -1.9208e-01,  4.0135e-02,  1.6657e-01, -1.0649e-01],\n",
            "        [-9.4694e-02,  1.4962e-01,  2.0988e-01,  1.9654e-03, -1.7950e-01,\n",
            "         -1.4951e-01, -2.7734e-01, -7.3124e-02,  1.9702e-01, -7.8842e-02],\n",
            "        [-2.4365e-01,  5.5263e-02,  2.2452e-01, -1.0217e-01, -1.7570e-01,\n",
            "         -8.5837e-02, -2.0383e-01, -1.4754e-02,  1.9729e-01, -9.3760e-02],\n",
            "        [-1.4644e-01,  1.7318e-01,  2.0934e-01,  4.2343e-02, -1.6804e-01,\n",
            "         -1.3271e-01, -2.3962e-01, -1.4539e-02,  2.4366e-01, -8.5032e-02],\n",
            "        [-1.9475e-01,  1.0339e-01,  2.4935e-01,  6.4714e-02, -1.1055e-01,\n",
            "         -8.8809e-02, -2.6159e-01, -1.0557e-01,  1.3989e-01, -1.1392e-01],\n",
            "        [-2.6284e-01,  5.5928e-02,  2.4158e-01, -1.2853e-02, -1.1916e-01,\n",
            "         -7.7173e-02, -2.2478e-01, -1.9345e-01,  2.5671e-01, -1.3556e-01],\n",
            "        [-2.3423e-01,  1.0862e-01,  2.3286e-01, -7.0961e-03, -1.4435e-01,\n",
            "         -1.2404e-01, -2.6431e-01, -8.3430e-02,  2.5138e-01, -6.1137e-02],\n",
            "        [-2.2387e-01,  5.8176e-02,  3.3645e-01,  2.5811e-02, -1.2435e-01,\n",
            "         -1.0704e-02, -2.5040e-01, -5.0714e-02,  1.2667e-01, -1.3408e-01],\n",
            "        [-1.7930e-01,  1.1638e-01,  1.4566e-01,  2.6614e-02, -1.4125e-01,\n",
            "         -1.4149e-01, -2.2260e-01, -1.3784e-01,  2.4607e-01, -1.3245e-01],\n",
            "        [-1.7649e-01,  6.7466e-02,  1.8161e-01,  1.0321e-01, -9.2426e-02,\n",
            "         -9.7066e-03, -2.7152e-01, -2.1424e-01,  1.8010e-01, -1.5618e-01],\n",
            "        [-2.5466e-01,  4.2580e-02,  2.2326e-01, -5.9044e-02, -1.6914e-01,\n",
            "         -1.5014e-01, -2.7115e-01, -1.2298e-01,  2.1770e-01, -6.8150e-02],\n",
            "        [-2.4843e-01,  1.5496e-02,  2.6043e-01, -2.9867e-02, -1.4178e-01,\n",
            "         -7.0030e-02, -2.6183e-01, -5.6365e-02,  1.0527e-01, -1.0995e-01],\n",
            "        [-1.6131e-01,  1.0765e-01,  7.1251e-02,  2.2708e-02, -2.4829e-01,\n",
            "         -1.4020e-01, -2.3723e-01, -8.8632e-03,  2.0086e-01, -1.2775e-01],\n",
            "        [-1.9406e-01,  8.4640e-02,  2.0180e-01, -4.7708e-03, -1.1941e-01,\n",
            "         -1.1272e-01, -2.5462e-01, -1.2690e-01,  2.5467e-01, -6.8106e-02],\n",
            "        [-2.2054e-01,  5.6837e-02,  2.6176e-01,  5.4100e-02, -4.7986e-02,\n",
            "          2.5657e-02, -1.7773e-01, -1.3081e-01,  1.9407e-01, -1.8118e-01],\n",
            "        [-2.4998e-01,  2.9585e-02,  2.4302e-01,  8.0703e-02, -1.0067e-01,\n",
            "          1.4833e-02, -2.4192e-01, -1.5013e-01,  1.6733e-01, -1.9618e-01],\n",
            "        [-2.1347e-01,  7.4246e-02,  2.1416e-01, -3.9127e-02, -1.2091e-01,\n",
            "         -1.4152e-01, -2.5295e-01, -1.2867e-01,  2.6126e-01, -6.3032e-02],\n",
            "        [-2.9692e-01,  7.8343e-02,  3.6233e-01, -6.2338e-02, -5.1990e-02,\n",
            "         -3.9687e-02, -2.6763e-01, -8.5486e-02,  1.7136e-01, -1.1397e-01],\n",
            "        [-1.2162e-01,  1.6258e-01,  1.9106e-01,  5.8266e-02, -1.8436e-01,\n",
            "         -1.5260e-01, -2.5166e-01, -3.4967e-02,  2.6726e-01, -9.9065e-02],\n",
            "        [-2.2052e-01,  5.0483e-02,  1.4000e-01, -5.5756e-02, -1.7712e-01,\n",
            "         -1.5412e-01, -2.5804e-01, -1.4705e-01,  1.9745e-01, -1.2652e-01],\n",
            "        [-1.9500e-01, -1.6302e-02,  2.7177e-01, -2.4922e-03, -2.9466e-02,\n",
            "         -8.8506e-02, -2.2740e-01, -1.1034e-01,  3.4843e-01, -1.6242e-01],\n",
            "        [-3.0501e-01, -1.6086e-03,  1.5939e-01, -3.2145e-02, -1.1544e-01,\n",
            "         -1.5069e-01, -1.7905e-01, -1.5644e-01,  2.3806e-01, -1.6073e-01],\n",
            "        [-2.0874e-01,  1.1892e-01,  2.5875e-01,  2.4979e-02, -2.0442e-01,\n",
            "         -1.2083e-01, -2.4025e-01, -2.6523e-02,  2.7037e-01, -9.7880e-02],\n",
            "        [-1.2954e-01,  1.9253e-01,  1.7774e-01,  4.1819e-02, -1.8618e-01,\n",
            "         -1.4675e-01, -2.4639e-01, -7.8255e-02,  1.6901e-01, -5.5462e-02],\n",
            "        [-2.7677e-01,  5.3169e-02,  1.6514e-01, -4.8116e-02, -2.9345e-01,\n",
            "         -1.5665e-01, -2.5644e-01, -7.4249e-02,  1.5764e-01, -1.2447e-01],\n",
            "        [-2.7599e-01,  5.0294e-02,  3.3364e-01, -4.5690e-02, -4.1678e-02,\n",
            "         -4.2394e-02, -2.0664e-01, -9.9042e-02,  1.6738e-01, -1.2879e-01],\n",
            "        [-2.4442e-01,  5.6363e-02,  2.4333e-01,  6.2402e-03, -1.9536e-01,\n",
            "         -1.5467e-01, -2.1051e-01, -1.6587e-01,  1.9751e-01, -1.4984e-01],\n",
            "        [-3.3566e-01,  6.4430e-02,  1.7040e-01, -2.3072e-02, -1.8790e-01,\n",
            "         -7.4404e-04, -1.8072e-01, -1.6826e-01,  6.6121e-02, -1.9276e-01],\n",
            "        [-2.3973e-01,  4.9949e-02,  1.9875e-01,  5.7380e-02, -1.6315e-01,\n",
            "         -4.9307e-02, -2.4431e-01, -1.7791e-01,  1.5745e-01, -2.2351e-01],\n",
            "        [-2.1364e-01, -1.8086e-02,  2.7080e-01,  1.7649e-02, -1.4050e-01,\n",
            "         -5.7957e-02, -3.3525e-01, -1.7072e-01,  9.1607e-02, -1.4100e-01],\n",
            "        [-2.5077e-01,  4.2817e-02,  2.6308e-01, -2.2606e-02, -1.3525e-01,\n",
            "         -6.8735e-02, -2.5685e-01, -1.2872e-01,  2.5989e-01, -1.3670e-01],\n",
            "        [-2.1111e-01,  6.4639e-02,  1.8774e-01,  2.3013e-02, -1.2251e-01,\n",
            "         -1.0236e-01, -9.6916e-02, -1.0997e-01,  1.1875e-01, -1.4262e-01],\n",
            "        [-2.2625e-01,  5.5101e-02,  2.0497e-01,  2.0091e-02, -1.2261e-01,\n",
            "         -1.1250e-01, -1.6542e-01, -1.3884e-01,  2.3363e-01, -1.0433e-01],\n",
            "        [-2.8354e-01,  1.1156e-02,  3.1220e-01,  1.7219e-02, -1.0321e-01,\n",
            "          1.9061e-03, -2.1821e-01, -7.3423e-03,  1.6054e-01, -1.3569e-01],\n",
            "        [-1.6590e-01,  1.2157e-01,  2.0066e-01,  2.2579e-02, -1.9094e-01,\n",
            "         -1.3989e-01, -2.0606e-01, -2.9040e-03,  2.8369e-01, -8.9009e-02],\n",
            "        [-1.9945e-01,  1.2644e-01,  2.3950e-01,  4.8482e-02, -9.3127e-02,\n",
            "         -7.4027e-02, -2.4951e-01, -1.1482e-01,  3.2729e-01, -9.4705e-02],\n",
            "        [-1.9715e-01,  1.1333e-01,  1.7758e-01,  3.1701e-02, -2.4116e-01,\n",
            "         -1.8963e-01, -2.5016e-01, -1.4294e-01,  2.4069e-01, -9.2964e-02],\n",
            "        [-2.7456e-01,  7.6910e-02,  2.1248e-01, -2.0118e-03, -1.4739e-01,\n",
            "         -1.4486e-01, -3.0741e-01, -1.6619e-01,  2.3929e-01, -2.7256e-02],\n",
            "        [-2.3082e-01,  1.6161e-02,  1.8467e-01, -2.8716e-02, -2.5613e-01,\n",
            "         -1.7407e-01, -1.7284e-01, -1.2615e-02,  1.5445e-01, -1.2942e-01],\n",
            "        [-2.1300e-01,  1.0641e-01,  2.7567e-01,  8.9476e-03, -1.0089e-01,\n",
            "         -1.7189e-02, -2.2423e-01, -1.4681e-01,  1.5574e-01, -1.4523e-01],\n",
            "        [-2.1047e-01,  1.3185e-01,  1.4803e-01, -4.3425e-03, -2.4857e-01,\n",
            "         -1.8466e-01, -2.1026e-01, -5.2452e-02,  2.6954e-01, -1.1944e-01],\n",
            "        [-1.5641e-01,  4.9576e-02,  1.8851e-01,  1.5359e-02, -4.7473e-02,\n",
            "         -5.2391e-02, -2.1818e-01, -1.0232e-01,  1.7757e-01, -9.2395e-02],\n",
            "        [-2.7128e-01, -6.1669e-02,  1.9292e-01,  7.0116e-02, -1.9868e-01,\n",
            "          2.0367e-02, -2.8816e-01, -1.6870e-02,  1.8715e-02, -1.3000e-01],\n",
            "        [-2.8034e-01,  2.6474e-02,  3.0976e-01, -8.1774e-02, -1.0097e-02,\n",
            "         -4.6063e-02, -2.4890e-01, -1.6667e-01,  2.1622e-01, -7.8406e-02],\n",
            "        [-1.7180e-01,  1.5134e-01,  2.3233e-01,  1.5323e-02, -1.7433e-01,\n",
            "         -9.4994e-02, -2.5079e-01, -4.5838e-02,  2.6419e-01, -9.2376e-02]],\n",
            "       grad_fn=<AddmmBackward0>)\n"
          ]
        }
      ],
      "source": [
        "count = 0\n",
        "for imgs, label in train_loader:\n",
        "  if count==0:\n",
        "    outputs = model(imgs)\n",
        "    #print(imgs.shape)\n",
        "    print(outputs)\n",
        "    count +=1"
      ],
      "id": "U5vvARtm0iSB"
    },
    {
      "cell_type": "code",
      "execution_count": 18,
      "metadata": {
        "colab": {
          "base_uri": "https://localhost:8080/"
        },
        "id": "mbTpPpiLzwn0",
        "outputId": "c1746b83-a6d7-4ebb-a4e8-d9bf73feec9c"
      },
      "outputs": [
        {
          "output_type": "execute_result",
          "data": {
            "text/plain": [
              "938"
            ]
          },
          "metadata": {},
          "execution_count": 18
        }
      ],
      "source": [
        "len(train_loader)"
      ],
      "id": "mbTpPpiLzwn0"
    },
    {
      "cell_type": "markdown",
      "metadata": {
        "id": "n3aFXKidT05U"
      },
      "source": [
        "#### **Procesando CNN con la muestra KMNIST...**"
      ],
      "id": "n3aFXKidT05U"
    },
    {
      "cell_type": "markdown",
      "metadata": {
        "id": "f3kRX2k5oYd7"
      },
      "source": [
        "##### **Primer Escenario**\n",
        "\n",
        "*El primer escenario a analizar en el modelo CNN será considerando el dataset dividido en 64 Batches, Learning Rate de 0.1, Cross Entropy como función de pérdida y SGD como optimizador.*\n",
        "\n",
        "*Son 200 las iteraciones que se obtendrán al finalizar el proceso, dentro del cual, se obtendrán los valores resultantes de \"Loss\" en búsqueda del valor óptimo y disminución de errores.* \n",
        "\n",
        "*Con esto último, se generará un gráfico demostrativo **Loss vs Epochs**.*"
      ],
      "id": "f3kRX2k5oYd7"
    },
    {
      "cell_type": "code",
      "execution_count": 19,
      "metadata": {
        "colab": {
          "base_uri": "https://localhost:8080/"
        },
        "id": "3guUP70ioSzb",
        "outputId": "062b5bcd-be2d-44aa-c05b-80e666bea800"
      },
      "outputs": [
        {
          "output_type": "stream",
          "name": "stdout",
          "text": [
            "Epoch 1, Training loss 0.5980687998314657\n",
            "Epoch 20, Training loss 0.04407776763507806\n",
            "Epoch 40, Training loss 0.015004293518518208\n",
            "Epoch 60, Training loss 0.006392629423761057\n",
            "Epoch 80, Training loss 0.003817570710061133\n",
            "Epoch 100, Training loss 0.002676410437958724\n",
            "Epoch 120, Training loss 0.0020432676731970962\n",
            "Epoch 140, Training loss 0.0016449714211645527\n",
            "Epoch 160, Training loss 0.0013770734462060475\n",
            "Epoch 180, Training loss 0.0011583240824298677\n",
            "Epoch 200, Training loss 0.0010065964190041157\n"
          ]
        }
      ],
      "source": [
        "# Run, traning\n",
        "model1 = CNN()                                            # call our cnn class\n",
        "optimizer1 = torch.optim.SGD(model1.parameters(), lr=0.1) # Stochastic gradient descent\n",
        "loss_fn1 = nn.CrossEntropyLoss()                          # Loss function\n",
        "\n",
        "Loss1 = training_loop(\n",
        "    n_epochs = 200,\n",
        "    optimizer = optimizer1,\n",
        "    model = model1,\n",
        "    loss_fn = loss_fn1,\n",
        "    train_loader = train_loader,\n",
        ")"
      ],
      "id": "3guUP70ioSzb"
    },
    {
      "cell_type": "markdown",
      "metadata": {
        "id": "tOG3yfM8q26d"
      },
      "source": [
        "*En cuanto al reciente resultado del procesamiento del modelo en el escenario 1 (SGD - lr: 0.1), se ha demorado 1 hora con 7 minutos en terminar las 200 iteraciones, disminuyendo su valor de Loss desde 0.57 a 0.0009, de lo cual se puede mencionar que:* **el valor óptimo dentro de las 200 iteraciones realizaadas, se encuentra en la última iteración, especificamente**"
      ],
      "id": "tOG3yfM8q26d"
    },
    {
      "cell_type": "markdown",
      "metadata": {
        "id": "v-kyRQ1ZsLZC"
      },
      "source": [
        "##### Visualización de la función de pérdida (Loss F.)\n",
        "\n",
        "**Primer Escenario**\n",
        "\n",
        "*El siguiente gráfico presenta la curvatura que va tomando el error al avanzar las 200 iteraciones del modelo, de ello se puede mencionar que:*\n",
        "\n",
        "  * *En primera instancia, los errores toman valores altos que van disminuyendo al iterar cada vez más, visualizándose como una curva de tipo exponencial, donde se puede observar su valor óptimo en la última iteración (200 -> 0.0009).*"
      ],
      "id": "v-kyRQ1ZsLZC"
    },
    {
      "cell_type": "code",
      "execution_count": 20,
      "metadata": {
        "id": "OWezzKzApz6z",
        "colab": {
          "base_uri": "https://localhost:8080/",
          "height": 312
        },
        "outputId": "5e6b359c-f816-43d9-f975-c8969c8bdf24"
      },
      "outputs": [
        {
          "output_type": "execute_result",
          "data": {
            "text/plain": [
              "Text(0, 0.5, 'Loss')"
            ]
          },
          "metadata": {},
          "execution_count": 20
        },
        {
          "output_type": "display_data",
          "data": {
            "text/plain": [
              "<Figure size 432x288 with 1 Axes>"
            ],
            "image/png": "[encoded data removed]"
          },
          "metadata": {
            "needs_background": "light"
          }
        }
      ],
      "source": [
        "# plot loss\n",
        "plt.plot(Loss1)\n",
        "plt.title('Escenario 1: Valores de Loss respecto a Epochs')\n",
        "plt.xlabel('Epoch(x20)')\n",
        "plt.ylabel('Loss')"
      ],
      "id": "OWezzKzApz6z"
    },
    {
      "cell_type": "markdown",
      "metadata": {
        "id": "662VTrcjtZYU"
      },
      "source": [
        "##### **Métricas**\n",
        "\n",
        "**Primer Escenario**\n",
        "\n",
        "*Dentro de las métricas a calcular para definir qué tan bueno es el modelo desarrolado, se tienen las siguientes:*\n",
        "\n",
        "  - Accuracy\n",
        "\n",
        "  - Precision\n",
        "\n",
        "  - Recall\n",
        "\n",
        "  - F1 Score"
      ],
      "id": "662VTrcjtZYU"
    },
    {
      "cell_type": "code",
      "execution_count": 21,
      "metadata": {
        "id": "n-vokr6iqi1e",
        "colab": {
          "base_uri": "https://localhost:8080/"
        },
        "outputId": "6b09ba0d-4d1f-4621-c94d-82cd8c8751dc"
      },
      "outputs": [
        {
          "output_type": "stream",
          "name": "stdout",
          "text": [
            "Accuracy train: 1.00\n",
            "Precision train: 1.00\n",
            "Recall train: 1.00\n",
            "F1 Score train: 1.00\n",
            "Accuracy val: 0.91\n",
            "Precision val: 0.88\n",
            "Recall val: 0.88\n",
            "F1 Score val: 0.89\n"
          ]
        }
      ],
      "source": [
        "# Testing metric\n",
        "train_loader = torch.utils.data.DataLoader(df, batch_size=64,\n",
        "                                            shuffle=False)\n",
        "test_loader = torch.utils.data.DataLoader(df_test, batch_size=64,\n",
        "                                            shuffle=False)\n",
        "#model1\n",
        "def validate(model1, train_loader, val_loader):\n",
        "    for name, loader in [(\"train\", train_loader), (\"val\", val_loader)]:\n",
        "        correct = 0\n",
        "        total = 0\n",
        "        with torch.no_grad():\n",
        "            for imgs, labels in loader:\n",
        "                outputs = model1(imgs)\n",
        "                _, predicted = torch.max(outputs, dim=1)\n",
        "                total += labels.shape[0]\n",
        "                # metrics: Acc, F1, AUC, Precision, Recall, \n",
        "                correct += int((predicted == labels).sum())\n",
        "        print(\"Accuracy {}: {:.2f}\".format(name , correct / total))        \n",
        "        print(\"Precision {}: {:.2f}\".format(name , precision_score(labels.numpy(), predicted.numpy(), average='micro')))\n",
        "        print(\"Recall {}: {:.2f}\".format(name , recall_score(labels.numpy(), predicted.numpy(), average='micro')))\n",
        "        print(\"F1 Score {}: {:.2f}\".format(name , f1_score(labels.numpy(), predicted.numpy(), average='macro')))\n",
        "        #print(\"AUC {}: {:.2f}\".format(name , roc_auc_score(labels.numpy(), predicted.numpy(), average='micro'))) # ---> Se tiene que armar un predict_tab a traves de una fn\n",
        "\n",
        "validate(model1, train_loader, test_loader)"
      ],
      "id": "n-vokr6iqi1e"
    },
    {
      "cell_type": "markdown",
      "metadata": {
        "id": "Uvv9Lafot8PN"
      },
      "source": [
        "*De acuerdo a las métricas anteriores, se define que el **Modelo CNN para el Primer Escenario** construido para clasificar en letras del japonés clásico imágenes de texto reimpreso es un modelo bueno para predecir, fundamentado en los valores de:*\n",
        "\n",
        "* **\"Accuracy\"**, *alcanzando un XX% con la data de entrenamiento y un XX% con la de testeo.\n",
        "\n",
        "  *Lo cual, indica que el Modelo del Primer Escenario es capaz de acertar en el XX% de las letras japonesas de entrenamiento y XX% de testeo.*\n",
        "\n",
        "* **\"Precision\"**, *obteniendo un XX% en entrenamiento y XX% en testeo.*\n",
        "\n",
        "  *Presentando altos índices de calidad en el modelo.*\n",
        "\n",
        "* **\"Recall\"**, *resultando en el XX% dentro de las imágenes de entrenamiento y XX% de testeo.*\n",
        "\n",
        "  *Es decir, el modelo para el escenario 1, es capaz de aportar una alta cantidad de valores positivos correctamente clasificados.*\n",
        "\n",
        "* **\"F1 Score\"**, *presentando un XX% en cuanto a las imágenes de entrenamiento y un XX% en las de testeo.*\n",
        "\n",
        "  *Donde, se puede asumir que el escenario 1 del modelo, el índice de rendimiento entre precisión y exhaustividad es alto.*\n",
        "\n",
        "\n",
        "*De lo anterior, es relevante mencionar que en términos comparativos de valores de entrenamiento y de testeo, los resultados de las métricas presentadas son bastantes parecidas y bordean el 80%, valor target definido como \"mínimo esperable\". Por lo tanto, son valores bastantes altos, en general. Determinando, nuevamente que **el modelo del primer escenario es un buen modelo predictor/clasificador**.*"
      ],
      "id": "Uvv9Lafot8PN"
    },
    {
      "cell_type": "markdown",
      "metadata": {
        "id": "VKqPZaDpyY_2"
      },
      "source": [
        "##### **Segundo Escenario**\n",
        "\n",
        "*En el caso del escenario número 2 a analizar para el modelo CN, será contemplando el dataset dividido en 64 Batches, también, un Learning Rate de 0.01, Cross Entropy como función de pérdida y ADAM como optimizador, dado que se busca mejorar los resultados anteriores con una nueva versión.*\n",
        "\n",
        "*Son 200 las iteraciones que se obtendrán al finalizar el proceso, dentro del cual, se obtendrán los valores que entrega \"Loss\" en búsqueda del valor óptimo y disminución de errores.* \n",
        "\n",
        "*Con esto último, se generará un gráfico demostrativo **Loss vs Epochs**.*"
      ],
      "id": "VKqPZaDpyY_2"
    },
    {
      "cell_type": "code",
      "execution_count": 22,
      "metadata": {
        "id": "174fa7c5",
        "colab": {
          "base_uri": "https://localhost:8080/"
        },
        "outputId": "6089644e-ce48-45f6-9965-46db24c5536a"
      },
      "outputs": [
        {
          "output_type": "stream",
          "name": "stdout",
          "text": [
            "Epoch 1, Training loss 2.3135596236694598\n",
            "Epoch 20, Training loss 2.3135596236694598\n",
            "Epoch 40, Training loss 2.3135596236694598\n",
            "Epoch 60, Training loss 2.3135596236694598\n",
            "Epoch 80, Training loss 2.3135596236694598\n",
            "Epoch 100, Training loss 2.3135596236694598\n",
            "Epoch 120, Training loss 2.3135596236694598\n",
            "Epoch 140, Training loss 2.3135596236694598\n",
            "Epoch 160, Training loss 2.3135596236694598\n",
            "Epoch 180, Training loss 2.3135596236694598\n",
            "Epoch 200, Training loss 2.3135596236694598\n"
          ]
        }
      ],
      "source": [
        "# Run, traning\n",
        "model2 = CNN()                                              # call our cnn class\n",
        "optimizer2 = torch.optim.Adam(model.parameters(), lr=0.01)  # Adaptive Moment Estimation(Adam)\n",
        "loss_fn2 = nn.CrossEntropyLoss()                            # Loss function\n",
        "\n",
        "Loss2 = training_loop(\n",
        "    n_epochs = 200,\n",
        "    optimizer = optimizer2,\n",
        "    model = model2,\n",
        "    loss_fn = loss_fn2,\n",
        "    train_loader = train_loader,\n",
        ")"
      ],
      "id": "174fa7c5"
    },
    {
      "cell_type": "markdown",
      "metadata": {
        "id": "ArcBEJLKzkwX"
      },
      "source": [
        "*El resultado del procesamiento del modelo en su segundo escenario (ADAM - lr: 0.01), se ha demorado 1 hora con 50 minutos en terminar las 200 iteraciones, disminuyendo su valor de Loss desde 0.51 a 0.22, de lo cual se puede mencionar que:* **el valor óptimo dentro de las 200 iteraciones realizadas, se encuentra en la ante penúltima iteración mostrada, epoch 160, especificamente**"
      ],
      "id": "ArcBEJLKzkwX"
    },
    {
      "cell_type": "markdown",
      "metadata": {
        "id": "oTMRh-D71jqp"
      },
      "source": [
        "##### Visualización de la función de pérdida (Loss F.)\n",
        "\n",
        "**Segundo Escenario**\n",
        "\n",
        "*El siguiente gráfico presenta la curvatura que va tomando el error al avanzar las 200 iteraciones del modelo, de ello se puede mencionar que:*\n",
        "\n",
        "  * *En primera instancia, los errores toman valores altos que van disminuyendo al avanzar las iteraciones, sin embargo, también se presentan variaciones incrementales del valor de Loss, representando una curva no homogénea ni líneal, donde se encuentra su valor óptimo en la ante penúltima iteración (160 -> 0.19).*"
      ],
      "id": "oTMRh-D71jqp"
    },
    {
      "cell_type": "code",
      "execution_count": 23,
      "metadata": {
        "id": "0gANsTRL1Swc",
        "colab": {
          "base_uri": "https://localhost:8080/",
          "height": 312
        },
        "outputId": "f1c14872-302e-4ad8-ec6b-653f8d927905"
      },
      "outputs": [
        {
          "output_type": "execute_result",
          "data": {
            "text/plain": [
              "Text(0, 0.5, 'Loss')"
            ]
          },
          "metadata": {},
          "execution_count": 23
        },
        {
          "output_type": "display_data",
          "data": {
            "text/plain": [
              "<Figure size 432x288 with 1 Axes>"
            ],
            "image/png": "[encoded data removed]"
          },
          "metadata": {
            "needs_background": "light"
          }
        }
      ],
      "source": [
        "# plot loss\n",
        "plt.plot(Loss2)\n",
        "plt.title('Escenario 2: Valores de Loss respecto a Epochs')\n",
        "plt.xlabel('Epoch(x20)')\n",
        "plt.ylabel('Loss')"
      ],
      "id": "0gANsTRL1Swc"
    },
    {
      "cell_type": "markdown",
      "metadata": {
        "id": "ZhCN_SK71lhP"
      },
      "source": [
        "##### **Métricas**\n",
        "\n",
        "**Segundo Escenario**\n",
        "\n",
        "*Dentro de las métricas a calcular para definir qué tan bueno es el modelo desarrolado, se tienen las siguientes:*\n",
        "\n",
        "  - Accuracy\n",
        "\n",
        "  - Precision\n",
        "\n",
        "  - Recall\n",
        "\n",
        "  - F1 Score"
      ],
      "id": "ZhCN_SK71lhP"
    },
    {
      "cell_type": "code",
      "execution_count": 24,
      "metadata": {
        "id": "yF0Jwzm62cDj",
        "colab": {
          "base_uri": "https://localhost:8080/"
        },
        "outputId": "8763a4c6-cc92-4cd5-82e3-b5d8f9595d02"
      },
      "outputs": [
        {
          "output_type": "stream",
          "name": "stdout",
          "text": [
            "Accuracy train: 0.08\n",
            "Precision train: 0.06\n",
            "Recall train: 0.06\n",
            "F1 Score train: 0.03\n",
            "Accuracy val: 0.09\n",
            "Precision val: 0.06\n",
            "Recall val: 0.06\n",
            "F1 Score val: 0.02\n"
          ]
        }
      ],
      "source": [
        "# Testing metric\n",
        "train_loader = torch.utils.data.DataLoader(df, batch_size=64,\n",
        "                                            shuffle=False)\n",
        "test_loader = torch.utils.data.DataLoader(df_test, batch_size=64,\n",
        "                                            shuffle=False)\n",
        "#model2\n",
        "def validate(model2, train_loader, val_loader):\n",
        "    for name, loader in [(\"train\", train_loader), (\"val\", val_loader)]:\n",
        "        correct = 0\n",
        "        total = 0\n",
        "        with torch.no_grad():\n",
        "            for imgs, labels in loader:\n",
        "                outputs = model2(imgs)\n",
        "                _, predicted = torch.max(outputs, dim=1)\n",
        "                total += labels.shape[0]\n",
        "                # metrics: Acc, F1, AUC, Precision, Recall, \n",
        "                correct += int((predicted == labels).sum())\n",
        "        print(\"Accuracy {}: {:.2f}\".format(name , correct / total))        \n",
        "        print(\"Precision {}: {:.2f}\".format(name , precision_score(labels.numpy(), predicted.numpy(), average='micro')))\n",
        "        print(\"Recall {}: {:.2f}\".format(name , recall_score(labels.numpy(), predicted.numpy(), average='micro')))\n",
        "        print(\"F1 Score {}: {:.2f}\".format(name , f1_score(labels.numpy(), predicted.numpy(), average='macro')))\n",
        "        #print(\"AUC {}: {:.2f}\".format(name , roc_auc_score(labels.numpy(), predicted.numpy(), average='micro'))) # ---> Se tiene que armar un predict_tab a traves de una fn\n",
        "\n",
        "validate(model2, train_loader, test_loader)"
      ],
      "id": "yF0Jwzm62cDj"
    },
    {
      "cell_type": "markdown",
      "metadata": {
        "id": "Xq2uVkBo3B0X"
      },
      "source": [
        "*De acuerdo a las métricas anteriores, se define que el **Modelo CNN para el Segundo Escenario** construido para clasificar en letras del japonés clásico imágenes de texto reimpreso es un modelo bueno para predecir, fundamentado en los valores de:*\n",
        "\n",
        "* **\"Accuracy\"**, *alcanzando un 93% con la data de entrenamiento y un 84% con la de testeo.\n",
        "\n",
        "  *Lo cual, indica que el Modelo del Primer Escenario es capaz de acertar en el 93% de las letras japonesas de entrenamiento y 84% de testeo.*\n",
        "\n",
        "* **\"Precision\"**, *obteniendo un 91% en entrenamiento y 88% en testeo.*\n",
        "\n",
        "  *Presentando altos índices de calidad en el modelo.*\n",
        "\n",
        "* **\"Recall\"**, *resultando en el 91% dentro de las imágenes de entrenamiento y 88% de testeo.*\n",
        "\n",
        "  *Es decir, el modelo para el escenario 2, es capaz de aportar una alta cantidad de valores positivos correctamente clasificados.*\n",
        "\n",
        "* **\"F1 Score\"**, *presentando un 87% en cuanto a las imágenes de entrenamiento y un 78% en las de testeo.*\n",
        "\n",
        "  *Donde, se puede asumir que el escenario 2 del modelo, el índice de rendimiento entre precisión y exhaustividad es alto.*\n",
        "\n",
        "\n",
        "*De lo anterior, es relevante mencionar que en términos comparativos de valores de entrenamiento y de testeo, los resultados de las métricas presentadas son bastantes parecidas y casi todas superan el 80%, valor target definido como \"mínimo esperable\". Por lo tanto, son valores bastantes altos, en general. Determinando, nuevamente que **el modelo del 2do escenario es un buen modelo predictor/clasificador**.*"
      ],
      "id": "Xq2uVkBo3B0X"
    },
    {
      "cell_type": "markdown",
      "metadata": {
        "id": "27A8JY8h08OZ"
      },
      "source": [
        "### Conclusión."
      ],
      "id": "27A8JY8h08OZ"
    },
    {
      "cell_type": "markdown",
      "metadata": {
        "id": "OsSjsXh-VyhW"
      },
      "source": [
        "*En términos comparativos, se puede concluir que ambos escenarios construyen un modelo que sirve para predecir y es bueno clasificando los registros del dataset KMNIST, capaces de categorizar en letras japonesas las imágenes presentadas de forma correcta aproximadamente en el 80% de ellas para ambos casos (como al principio del documento se definió).*\n",
        "\n",
        "*En principio, se puede mencionar que al iniciar el procesamiento de los modelos, el segundo (ADAM, lr=0.01) presenta menores valores de Loss desde el primer epoch, sin embargo finaliza con mayor Loss que el primer escenario, diferenciandose en 0.22 puntos.*\n",
        "\n",
        "*Ya posteriormente, al calcular las métricas definidas de clasificación, el segundo escenario (ADAM, lr=0.01) obtiene mejores resultados en cuanto a las imágenes de entrenamiento como las de testeo. Obteniendo mejores índices de precisión en la predicción, en la calidad y cantidad de sus resultados correctos y en la exactitud de los mismos.*\n",
        "\n",
        "*Por ende, **se define y elige como mejor modelo el del escenario n° 2 (ADAM, lr=0.01)**, dado que predice y categoriza de mejor manera las imágenes de texto reimpreso presentadas en el dataset KMNIST, siendo capaz de clasificar en letras del japonés clásico Kuzushiji con mayor **precisión**.*\n"
      ],
      "id": "OsSjsXh-VyhW"
    }
  ],
  "metadata": {
    "colab": {
      "collapsed_sections": [],
      "provenance": [],
      "include_colab_link": true
    },
    "kernelspec": {
      "display_name": "Python 3 (ipykernel)",
      "language": "python",
      "name": "python3"
    },
    "language_info": {
      "codemirror_mode": {
        "name": "ipython",
        "version": 3
      },
      "file_extension": ".py",
      "mimetype": "text/x-python",
      "name": "python",
      "nbconvert_exporter": "python",
      "pygments_lexer": "ipython3",
      "version": "3.8.11"
    },
    "widgets": {
      "application/vnd.jupyter.widget-state+json": {
        "c4845191b04042009572db6a3d993845": {
          "model_module": "@jupyter-widgets/controls",
          "model_name": "HBoxModel",
          "model_module_version": "1.5.0",
          "state": {
            "_dom_classes": [],
            "_model_module": "@jupyter-widgets/controls",
            "_model_module_version": "1.5.0",
            "_model_name": "HBoxModel",
            "_view_count": null,
            "_view_module": "@jupyter-widgets/controls",
            "_view_module_version": "1.5.0",
            "_view_name": "HBoxView",
            "box_style": "",
            "children": [
              "IPY_MODEL_94af1a13d4c64381832a44013afba2af",
              "IPY_MODEL_b79abd0cb55b4767bef7d86a7a2ed437",
              "IPY_MODEL_774f7a1dfeba40d4aa767657d83aae46"
            ],
            "layout": "IPY_MODEL_32263cb8bda149749f4f0374b7c70823"
          }
        },
        "94af1a13d4c64381832a44013afba2af": {
          "model_module": "@jupyter-widgets/controls",
          "model_name": "HTMLModel",
          "model_module_version": "1.5.0",
          "state": {
            "_dom_classes": [],
            "_model_module": "@jupyter-widgets/controls",
            "_model_module_version": "1.5.0",
            "_model_name": "HTMLModel",
            "_view_count": null,
            "_view_module": "@jupyter-widgets/controls",
            "_view_module_version": "1.5.0",
            "_view_name": "HTMLView",
            "description": "",
            "description_tooltip": null,
            "layout": "IPY_MODEL_422c851c33bb491aa0be79c651864819",
            "placeholder": "​",
            "style": "IPY_MODEL_c2b91e20c49e47979f52494215d681e0",
            "value": "100%"
          }
        },
        "b79abd0cb55b4767bef7d86a7a2ed437": {
          "model_module": "@jupyter-widgets/controls",
          "model_name": "FloatProgressModel",
          "model_module_version": "1.5.0",
          "state": {
            "_dom_classes": [],
            "_model_module": "@jupyter-widgets/controls",
            "_model_module_version": "1.5.0",
            "_model_name": "FloatProgressModel",
            "_view_count": null,
            "_view_module": "@jupyter-widgets/controls",
            "_view_module_version": "1.5.0",
            "_view_name": "ProgressView",
            "bar_style": "success",
            "description": "",
            "description_tooltip": null,
            "layout": "IPY_MODEL_7911940c91bd47fda52b084a58d1c47c",
            "max": 18165135,
            "min": 0,
            "orientation": "horizontal",
            "style": "IPY_MODEL_e3d359329f904e5c92ce318ce157be96",
            "value": 18165135
          }
        },
        "774f7a1dfeba40d4aa767657d83aae46": {
          "model_module": "@jupyter-widgets/controls",
          "model_name": "HTMLModel",
          "model_module_version": "1.5.0",
          "state": {
            "_dom_classes": [],
            "_model_module": "@jupyter-widgets/controls",
            "_model_module_version": "1.5.0",
            "_model_name": "HTMLModel",
            "_view_count": null,
            "_view_module": "@jupyter-widgets/controls",
            "_view_module_version": "1.5.0",
            "_view_name": "HTMLView",
            "description": "",
            "description_tooltip": null,
            "layout": "IPY_MODEL_bf0a1080a3ed44e0a8f955f799d5bc9a",
            "placeholder": "​",
            "style": "IPY_MODEL_09da33184348480aa7ec7614e386468f",
            "value": " 18165135/18165135 [00:05&lt;00:00, 2630019.70it/s]"
          }
        },
        "32263cb8bda149749f4f0374b7c70823": {
          "model_module": "@jupyter-widgets/base",
          "model_name": "LayoutModel",
          "model_module_version": "1.2.0",
          "state": {
            "_model_module": "@jupyter-widgets/base",
            "_model_module_version": "1.2.0",
            "_model_name": "LayoutModel",
            "_view_count": null,
            "_view_module": "@jupyter-widgets/base",
            "_view_module_version": "1.2.0",
            "_view_name": "LayoutView",
            "align_content": null,
            "align_items": null,
            "align_self": null,
            "border": null,
            "bottom": null,
            "display": null,
            "flex": null,
            "flex_flow": null,
            "grid_area": null,
            "grid_auto_columns": null,
            "grid_auto_flow": null,
            "grid_auto_rows": null,
            "grid_column": null,
            "grid_gap": null,
            "grid_row": null,
            "grid_template_areas": null,
            "grid_template_columns": null,
            "grid_template_rows": null,
            "height": null,
            "justify_content": null,
            "justify_items": null,
            "left": null,
            "margin": null,
            "max_height": null,
            "max_width": null,
            "min_height": null,
            "min_width": null,
            "object_fit": null,
            "object_position": null,
            "order": null,
            "overflow": null,
            "overflow_x": null,
            "overflow_y": null,
            "padding": null,
            "right": null,
            "top": null,
            "visibility": null,
            "width": null
          }
        },
        "422c851c33bb491aa0be79c651864819": {
          "model_module": "@jupyter-widgets/base",
          "model_name": "LayoutModel",
          "model_module_version": "1.2.0",
          "state": {
            "_model_module": "@jupyter-widgets/base",
            "_model_module_version": "1.2.0",
            "_model_name": "LayoutModel",
            "_view_count": null,
            "_view_module": "@jupyter-widgets/base",
            "_view_module_version": "1.2.0",
            "_view_name": "LayoutView",
            "align_content": null,
            "align_items": null,
            "align_self": null,
            "border": null,
            "bottom": null,
            "display": null,
            "flex": null,
            "flex_flow": null,
            "grid_area": null,
            "grid_auto_columns": null,
            "grid_auto_flow": null,
            "grid_auto_rows": null,
            "grid_column": null,
            "grid_gap": null,
            "grid_row": null,
            "grid_template_areas": null,
            "grid_template_columns": null,
            "grid_template_rows": null,
            "height": null,
            "justify_content": null,
            "justify_items": null,
            "left": null,
            "margin": null,
            "max_height": null,
            "max_width": null,
            "min_height": null,
            "min_width": null,
            "object_fit": null,
            "object_position": null,
            "order": null,
            "overflow": null,
            "overflow_x": null,
            "overflow_y": null,
            "padding": null,
            "right": null,
            "top": null,
            "visibility": null,
            "width": null
          }
        },
        "c2b91e20c49e47979f52494215d681e0": {
          "model_module": "@jupyter-widgets/controls",
          "model_name": "DescriptionStyleModel",
          "model_module_version": "1.5.0",
          "state": {
            "_model_module": "@jupyter-widgets/controls",
            "_model_module_version": "1.5.0",
            "_model_name": "DescriptionStyleModel",
            "_view_count": null,
            "_view_module": "@jupyter-widgets/base",
            "_view_module_version": "1.2.0",
            "_view_name": "StyleView",
            "description_width": ""
          }
        },
        "7911940c91bd47fda52b084a58d1c47c": {
          "model_module": "@jupyter-widgets/base",
          "model_name": "LayoutModel",
          "model_module_version": "1.2.0",
          "state": {
            "_model_module": "@jupyter-widgets/base",
            "_model_module_version": "1.2.0",
            "_model_name": "LayoutModel",
            "_view_count": null,
            "_view_module": "@jupyter-widgets/base",
            "_view_module_version": "1.2.0",
            "_view_name": "LayoutView",
            "align_content": null,
            "align_items": null,
            "align_self": null,
            "border": null,
            "bottom": null,
            "display": null,
            "flex": null,
            "flex_flow": null,
            "grid_area": null,
            "grid_auto_columns": null,
            "grid_auto_flow": null,
            "grid_auto_rows": null,
            "grid_column": null,
            "grid_gap": null,
            "grid_row": null,
            "grid_template_areas": null,
            "grid_template_columns": null,
            "grid_template_rows": null,
            "height": null,
            "justify_content": null,
            "justify_items": null,
            "left": null,
            "margin": null,
            "max_height": null,
            "max_width": null,
            "min_height": null,
            "min_width": null,
            "object_fit": null,
            "object_position": null,
            "order": null,
            "overflow": null,
            "overflow_x": null,
            "overflow_y": null,
            "padding": null,
            "right": null,
            "top": null,
            "visibility": null,
            "width": null
          }
        },
        "e3d359329f904e5c92ce318ce157be96": {
          "model_module": "@jupyter-widgets/controls",
          "model_name": "ProgressStyleModel",
          "model_module_version": "1.5.0",
          "state": {
            "_model_module": "@jupyter-widgets/controls",
            "_model_module_version": "1.5.0",
            "_model_name": "ProgressStyleModel",
            "_view_count": null,
            "_view_module": "@jupyter-widgets/base",
            "_view_module_version": "1.2.0",
            "_view_name": "StyleView",
            "bar_color": null,
            "description_width": ""
          }
        },
        "bf0a1080a3ed44e0a8f955f799d5bc9a": {
          "model_module": "@jupyter-widgets/base",
          "model_name": "LayoutModel",
          "model_module_version": "1.2.0",
          "state": {
            "_model_module": "@jupyter-widgets/base",
            "_model_module_version": "1.2.0",
            "_model_name": "LayoutModel",
            "_view_count": null,
            "_view_module": "@jupyter-widgets/base",
            "_view_module_version": "1.2.0",
            "_view_name": "LayoutView",
            "align_content": null,
            "align_items": null,
            "align_self": null,
            "border": null,
            "bottom": null,
            "display": null,
            "flex": null,
            "flex_flow": null,
            "grid_area": null,
            "grid_auto_columns": null,
            "grid_auto_flow": null,
            "grid_auto_rows": null,
            "grid_column": null,
            "grid_gap": null,
            "grid_row": null,
            "grid_template_areas": null,
            "grid_template_columns": null,
            "grid_template_rows": null,
            "height": null,
            "justify_content": null,
            "justify_items": null,
            "left": null,
            "margin": null,
            "max_height": null,
            "max_width": null,
            "min_height": null,
            "min_width": null,
            "object_fit": null,
            "object_position": null,
            "order": null,
            "overflow": null,
            "overflow_x": null,
            "overflow_y": null,
            "padding": null,
            "right": null,
            "top": null,
            "visibility": null,
            "width": null
          }
        },
        "09da33184348480aa7ec7614e386468f": {
          "model_module": "@jupyter-widgets/controls",
          "model_name": "DescriptionStyleModel",
          "model_module_version": "1.5.0",
          "state": {
            "_model_module": "@jupyter-widgets/controls",
            "_model_module_version": "1.5.0",
            "_model_name": "DescriptionStyleModel",
            "_view_count": null,
            "_view_module": "@jupyter-widgets/base",
            "_view_module_version": "1.2.0",
            "_view_name": "StyleView",
            "description_width": ""
          }
        },
        "f94b8493d0594feca0d3c0d849456259": {
          "model_module": "@jupyter-widgets/controls",
          "model_name": "HBoxModel",
          "model_module_version": "1.5.0",
          "state": {
            "_dom_classes": [],
            "_model_module": "@jupyter-widgets/controls",
            "_model_module_version": "1.5.0",
            "_model_name": "HBoxModel",
            "_view_count": null,
            "_view_module": "@jupyter-widgets/controls",
            "_view_module_version": "1.5.0",
            "_view_name": "HBoxView",
            "box_style": "",
            "children": [
              "IPY_MODEL_b7ddd713e0ee409fba30c9e86ad25739",
              "IPY_MODEL_964bab78e5a64473b28190b0f27e2c94",
              "IPY_MODEL_059269f582704b8ca8bef2eb15f821e2"
            ],
            "layout": "IPY_MODEL_a78398539d504cbea86194db83401111"
          }
        },
        "b7ddd713e0ee409fba30c9e86ad25739": {
          "model_module": "@jupyter-widgets/controls",
          "model_name": "HTMLModel",
          "model_module_version": "1.5.0",
          "state": {
            "_dom_classes": [],
            "_model_module": "@jupyter-widgets/controls",
            "_model_module_version": "1.5.0",
            "_model_name": "HTMLModel",
            "_view_count": null,
            "_view_module": "@jupyter-widgets/controls",
            "_view_module_version": "1.5.0",
            "_view_name": "HTMLView",
            "description": "",
            "description_tooltip": null,
            "layout": "IPY_MODEL_f44a3f22f30641fbab2c93c92a91c325",
            "placeholder": "​",
            "style": "IPY_MODEL_0d8125869ff24769b1b1b18a3e7a87b0",
            "value": "100%"
          }
        },
        "964bab78e5a64473b28190b0f27e2c94": {
          "model_module": "@jupyter-widgets/controls",
          "model_name": "FloatProgressModel",
          "model_module_version": "1.5.0",
          "state": {
            "_dom_classes": [],
            "_model_module": "@jupyter-widgets/controls",
            "_model_module_version": "1.5.0",
            "_model_name": "FloatProgressModel",
            "_view_count": null,
            "_view_module": "@jupyter-widgets/controls",
            "_view_module_version": "1.5.0",
            "_view_name": "ProgressView",
            "bar_style": "success",
            "description": "",
            "description_tooltip": null,
            "layout": "IPY_MODEL_382c97a633714f1c8ecd16c735926861",
            "max": 29497,
            "min": 0,
            "orientation": "horizontal",
            "style": "IPY_MODEL_53e1c8739d744622b185d7c22bce2d66",
            "value": 29497
          }
        },
        "059269f582704b8ca8bef2eb15f821e2": {
          "model_module": "@jupyter-widgets/controls",
          "model_name": "HTMLModel",
          "model_module_version": "1.5.0",
          "state": {
            "_dom_classes": [],
            "_model_module": "@jupyter-widgets/controls",
            "_model_module_version": "1.5.0",
            "_model_name": "HTMLModel",
            "_view_count": null,
            "_view_module": "@jupyter-widgets/controls",
            "_view_module_version": "1.5.0",
            "_view_name": "HTMLView",
            "description": "",
            "description_tooltip": null,
            "layout": "IPY_MODEL_1d236e3c12504f21ae520f1e00889966",
            "placeholder": "​",
            "style": "IPY_MODEL_5bf483684e204bf3b72e4a55d8264740",
            "value": " 29497/29497 [00:00&lt;00:00, 198909.92it/s]"
          }
        },
        "a78398539d504cbea86194db83401111": {
          "model_module": "@jupyter-widgets/base",
          "model_name": "LayoutModel",
          "model_module_version": "1.2.0",
          "state": {
            "_model_module": "@jupyter-widgets/base",
            "_model_module_version": "1.2.0",
            "_model_name": "LayoutModel",
            "_view_count": null,
            "_view_module": "@jupyter-widgets/base",
            "_view_module_version": "1.2.0",
            "_view_name": "LayoutView",
            "align_content": null,
            "align_items": null,
            "align_self": null,
            "border": null,
            "bottom": null,
            "display": null,
            "flex": null,
            "flex_flow": null,
            "grid_area": null,
            "grid_auto_columns": null,
            "grid_auto_flow": null,
            "grid_auto_rows": null,
            "grid_column": null,
            "grid_gap": null,
            "grid_row": null,
            "grid_template_areas": null,
            "grid_template_columns": null,
            "grid_template_rows": null,
            "height": null,
            "justify_content": null,
            "justify_items": null,
            "left": null,
            "margin": null,
            "max_height": null,
            "max_width": null,
            "min_height": null,
            "min_width": null,
            "object_fit": null,
            "object_position": null,
            "order": null,
            "overflow": null,
            "overflow_x": null,
            "overflow_y": null,
            "padding": null,
            "right": null,
            "top": null,
            "visibility": null,
            "width": null
          }
        },
        "f44a3f22f30641fbab2c93c92a91c325": {
          "model_module": "@jupyter-widgets/base",
          "model_name": "LayoutModel",
          "model_module_version": "1.2.0",
          "state": {
            "_model_module": "@jupyter-widgets/base",
            "_model_module_version": "1.2.0",
            "_model_name": "LayoutModel",
            "_view_count": null,
            "_view_module": "@jupyter-widgets/base",
            "_view_module_version": "1.2.0",
            "_view_name": "LayoutView",
            "align_content": null,
            "align_items": null,
            "align_self": null,
            "border": null,
            "bottom": null,
            "display": null,
            "flex": null,
            "flex_flow": null,
            "grid_area": null,
            "grid_auto_columns": null,
            "grid_auto_flow": null,
            "grid_auto_rows": null,
            "grid_column": null,
            "grid_gap": null,
            "grid_row": null,
            "grid_template_areas": null,
            "grid_template_columns": null,
            "grid_template_rows": null,
            "height": null,
            "justify_content": null,
            "justify_items": null,
            "left": null,
            "margin": null,
            "max_height": null,
            "max_width": null,
            "min_height": null,
            "min_width": null,
            "object_fit": null,
            "object_position": null,
            "order": null,
            "overflow": null,
            "overflow_x": null,
            "overflow_y": null,
            "padding": null,
            "right": null,
            "top": null,
            "visibility": null,
            "width": null
          }
        },
        "0d8125869ff24769b1b1b18a3e7a87b0": {
          "model_module": "@jupyter-widgets/controls",
          "model_name": "DescriptionStyleModel",
          "model_module_version": "1.5.0",
          "state": {
            "_model_module": "@jupyter-widgets/controls",
            "_model_module_version": "1.5.0",
            "_model_name": "DescriptionStyleModel",
            "_view_count": null,
            "_view_module": "@jupyter-widgets/base",
            "_view_module_version": "1.2.0",
            "_view_name": "StyleView",
            "description_width": ""
          }
        },
        "382c97a633714f1c8ecd16c735926861": {
          "model_module": "@jupyter-widgets/base",
          "model_name": "LayoutModel",
          "model_module_version": "1.2.0",
          "state": {
            "_model_module": "@jupyter-widgets/base",
            "_model_module_version": "1.2.0",
            "_model_name": "LayoutModel",
            "_view_count": null,
            "_view_module": "@jupyter-widgets/base",
            "_view_module_version": "1.2.0",
            "_view_name": "LayoutView",
            "align_content": null,
            "align_items": null,
            "align_self": null,
            "border": null,
            "bottom": null,
            "display": null,
            "flex": null,
            "flex_flow": null,
            "grid_area": null,
            "grid_auto_columns": null,
            "grid_auto_flow": null,
            "grid_auto_rows": null,
            "grid_column": null,
            "grid_gap": null,
            "grid_row": null,
            "grid_template_areas": null,
            "grid_template_columns": null,
            "grid_template_rows": null,
            "height": null,
            "justify_content": null,
            "justify_items": null,
            "left": null,
            "margin": null,
            "max_height": null,
            "max_width": null,
            "min_height": null,
            "min_width": null,
            "object_fit": null,
            "object_position": null,
            "order": null,
            "overflow": null,
            "overflow_x": null,
            "overflow_y": null,
            "padding": null,
            "right": null,
            "top": null,
            "visibility": null,
            "width": null
          }
        },
        "53e1c8739d744622b185d7c22bce2d66": {
          "model_module": "@jupyter-widgets/controls",
          "model_name": "ProgressStyleModel",
          "model_module_version": "1.5.0",
          "state": {
            "_model_module": "@jupyter-widgets/controls",
            "_model_module_version": "1.5.0",
            "_model_name": "ProgressStyleModel",
            "_view_count": null,
            "_view_module": "@jupyter-widgets/base",
            "_view_module_version": "1.2.0",
            "_view_name": "StyleView",
            "bar_color": null,
            "description_width": ""
          }
        },
        "1d236e3c12504f21ae520f1e00889966": {
          "model_module": "@jupyter-widgets/base",
          "model_name": "LayoutModel",
          "model_module_version": "1.2.0",
          "state": {
            "_model_module": "@jupyter-widgets/base",
            "_model_module_version": "1.2.0",
            "_model_name": "LayoutModel",
            "_view_count": null,
            "_view_module": "@jupyter-widgets/base",
            "_view_module_version": "1.2.0",
            "_view_name": "LayoutView",
            "align_content": null,
            "align_items": null,
            "align_self": null,
            "border": null,
            "bottom": null,
            "display": null,
            "flex": null,
            "flex_flow": null,
            "grid_area": null,
            "grid_auto_columns": null,
            "grid_auto_flow": null,
            "grid_auto_rows": null,
            "grid_column": null,
            "grid_gap": null,
            "grid_row": null,
            "grid_template_areas": null,
            "grid_template_columns": null,
            "grid_template_rows": null,
            "height": null,
            "justify_content": null,
            "justify_items": null,
            "left": null,
            "margin": null,
            "max_height": null,
            "max_width": null,
            "min_height": null,
            "min_width": null,
            "object_fit": null,
            "object_position": null,
            "order": null,
            "overflow": null,
            "overflow_x": null,
            "overflow_y": null,
            "padding": null,
            "right": null,
            "top": null,
            "visibility": null,
            "width": null
          }
        },
        "5bf483684e204bf3b72e4a55d8264740": {
          "model_module": "@jupyter-widgets/controls",
          "model_name": "DescriptionStyleModel",
          "model_module_version": "1.5.0",
          "state": {
            "_model_module": "@jupyter-widgets/controls",
            "_model_module_version": "1.5.0",
            "_model_name": "DescriptionStyleModel",
            "_view_count": null,
            "_view_module": "@jupyter-widgets/base",
            "_view_module_version": "1.2.0",
            "_view_name": "StyleView",
            "description_width": ""
          }
        },
        "67509269bdec4548be0639fe63130356": {
          "model_module": "@jupyter-widgets/controls",
          "model_name": "HBoxModel",
          "model_module_version": "1.5.0",
          "state": {
            "_dom_classes": [],
            "_model_module": "@jupyter-widgets/controls",
            "_model_module_version": "1.5.0",
            "_model_name": "HBoxModel",
            "_view_count": null,
            "_view_module": "@jupyter-widgets/controls",
            "_view_module_version": "1.5.0",
            "_view_name": "HBoxView",
            "box_style": "",
            "children": [
              "IPY_MODEL_176733e1452d4a108179430972955f51",
              "IPY_MODEL_b1e1f2631e5d4d30911e6a834ea61c9a",
              "IPY_MODEL_226735cdeb164aacaf2416a75a678e67"
            ],
            "layout": "IPY_MODEL_ad50d92308a84eb58825dec77a3f1c2d"
          }
        },
        "176733e1452d4a108179430972955f51": {
          "model_module": "@jupyter-widgets/controls",
          "model_name": "HTMLModel",
          "model_module_version": "1.5.0",
          "state": {
            "_dom_classes": [],
            "_model_module": "@jupyter-widgets/controls",
            "_model_module_version": "1.5.0",
            "_model_name": "HTMLModel",
            "_view_count": null,
            "_view_module": "@jupyter-widgets/controls",
            "_view_module_version": "1.5.0",
            "_view_name": "HTMLView",
            "description": "",
            "description_tooltip": null,
            "layout": "IPY_MODEL_69759c22598947b2a8e6d194e4b01c80",
            "placeholder": "​",
            "style": "IPY_MODEL_819c5becb18b4b9f9522305fe5f3db99",
            "value": "100%"
          }
        },
        "b1e1f2631e5d4d30911e6a834ea61c9a": {
          "model_module": "@jupyter-widgets/controls",
          "model_name": "FloatProgressModel",
          "model_module_version": "1.5.0",
          "state": {
            "_dom_classes": [],
            "_model_module": "@jupyter-widgets/controls",
            "_model_module_version": "1.5.0",
            "_model_name": "FloatProgressModel",
            "_view_count": null,
            "_view_module": "@jupyter-widgets/controls",
            "_view_module_version": "1.5.0",
            "_view_name": "ProgressView",
            "bar_style": "success",
            "description": "",
            "description_tooltip": null,
            "layout": "IPY_MODEL_381922cef6c34f7aa9f86bcf074879f5",
            "max": 3041136,
            "min": 0,
            "orientation": "horizontal",
            "style": "IPY_MODEL_9d4e9afadbb344a987bc19c68964233e",
            "value": 3041136
          }
        },
        "226735cdeb164aacaf2416a75a678e67": {
          "model_module": "@jupyter-widgets/controls",
          "model_name": "HTMLModel",
          "model_module_version": "1.5.0",
          "state": {
            "_dom_classes": [],
            "_model_module": "@jupyter-widgets/controls",
            "_model_module_version": "1.5.0",
            "_model_name": "HTMLModel",
            "_view_count": null,
            "_view_module": "@jupyter-widgets/controls",
            "_view_module_version": "1.5.0",
            "_view_name": "HTMLView",
            "description": "",
            "description_tooltip": null,
            "layout": "IPY_MODEL_5cd657cf1d3e469f85fd1b82f9b95fd5",
            "placeholder": "​",
            "style": "IPY_MODEL_b45022a4bdcc48aa9ff1c7082c6b88ea",
            "value": " 3041136/3041136 [00:01&lt;00:00, 2660238.87it/s]"
          }
        },
        "ad50d92308a84eb58825dec77a3f1c2d": {
          "model_module": "@jupyter-widgets/base",
          "model_name": "LayoutModel",
          "model_module_version": "1.2.0",
          "state": {
            "_model_module": "@jupyter-widgets/base",
            "_model_module_version": "1.2.0",
            "_model_name": "LayoutModel",
            "_view_count": null,
            "_view_module": "@jupyter-widgets/base",
            "_view_module_version": "1.2.0",
            "_view_name": "LayoutView",
            "align_content": null,
            "align_items": null,
            "align_self": null,
            "border": null,
            "bottom": null,
            "display": null,
            "flex": null,
            "flex_flow": null,
            "grid_area": null,
            "grid_auto_columns": null,
            "grid_auto_flow": null,
            "grid_auto_rows": null,
            "grid_column": null,
            "grid_gap": null,
            "grid_row": null,
            "grid_template_areas": null,
            "grid_template_columns": null,
            "grid_template_rows": null,
            "height": null,
            "justify_content": null,
            "justify_items": null,
            "left": null,
            "margin": null,
            "max_height": null,
            "max_width": null,
            "min_height": null,
            "min_width": null,
            "object_fit": null,
            "object_position": null,
            "order": null,
            "overflow": null,
            "overflow_x": null,
            "overflow_y": null,
            "padding": null,
            "right": null,
            "top": null,
            "visibility": null,
            "width": null
          }
        },
        "69759c22598947b2a8e6d194e4b01c80": {
          "model_module": "@jupyter-widgets/base",
          "model_name": "LayoutModel",
          "model_module_version": "1.2.0",
          "state": {
            "_model_module": "@jupyter-widgets/base",
            "_model_module_version": "1.2.0",
            "_model_name": "LayoutModel",
            "_view_count": null,
            "_view_module": "@jupyter-widgets/base",
            "_view_module_version": "1.2.0",
            "_view_name": "LayoutView",
            "align_content": null,
            "align_items": null,
            "align_self": null,
            "border": null,
            "bottom": null,
            "display": null,
            "flex": null,
            "flex_flow": null,
            "grid_area": null,
            "grid_auto_columns": null,
            "grid_auto_flow": null,
            "grid_auto_rows": null,
            "grid_column": null,
            "grid_gap": null,
            "grid_row": null,
            "grid_template_areas": null,
            "grid_template_columns": null,
            "grid_template_rows": null,
            "height": null,
            "justify_content": null,
            "justify_items": null,
            "left": null,
            "margin": null,
            "max_height": null,
            "max_width": null,
            "min_height": null,
            "min_width": null,
            "object_fit": null,
            "object_position": null,
            "order": null,
            "overflow": null,
            "overflow_x": null,
            "overflow_y": null,
            "padding": null,
            "right": null,
            "top": null,
            "visibility": null,
            "width": null
          }
        },
        "819c5becb18b4b9f9522305fe5f3db99": {
          "model_module": "@jupyter-widgets/controls",
          "model_name": "DescriptionStyleModel",
          "model_module_version": "1.5.0",
          "state": {
            "_model_module": "@jupyter-widgets/controls",
            "_model_module_version": "1.5.0",
            "_model_name": "DescriptionStyleModel",
            "_view_count": null,
            "_view_module": "@jupyter-widgets/base",
            "_view_module_version": "1.2.0",
            "_view_name": "StyleView",
            "description_width": ""
          }
        },
        "381922cef6c34f7aa9f86bcf074879f5": {
          "model_module": "@jupyter-widgets/base",
          "model_name": "LayoutModel",
          "model_module_version": "1.2.0",
          "state": {
            "_model_module": "@jupyter-widgets/base",
            "_model_module_version": "1.2.0",
            "_model_name": "LayoutModel",
            "_view_count": null,
            "_view_module": "@jupyter-widgets/base",
            "_view_module_version": "1.2.0",
            "_view_name": "LayoutView",
            "align_content": null,
            "align_items": null,
            "align_self": null,
            "border": null,
            "bottom": null,
            "display": null,
            "flex": null,
            "flex_flow": null,
            "grid_area": null,
            "grid_auto_columns": null,
            "grid_auto_flow": null,
            "grid_auto_rows": null,
            "grid_column": null,
            "grid_gap": null,
            "grid_row": null,
            "grid_template_areas": null,
            "grid_template_columns": null,
            "grid_template_rows": null,
            "height": null,
            "justify_content": null,
            "justify_items": null,
            "left": null,
            "margin": null,
            "max_height": null,
            "max_width": null,
            "min_height": null,
            "min_width": null,
            "object_fit": null,
            "object_position": null,
            "order": null,
            "overflow": null,
            "overflow_x": null,
            "overflow_y": null,
            "padding": null,
            "right": null,
            "top": null,
            "visibility": null,
            "width": null
          }
        },
        "9d4e9afadbb344a987bc19c68964233e": {
          "model_module": "@jupyter-widgets/controls",
          "model_name": "ProgressStyleModel",
          "model_module_version": "1.5.0",
          "state": {
            "_model_module": "@jupyter-widgets/controls",
            "_model_module_version": "1.5.0",
            "_model_name": "ProgressStyleModel",
            "_view_count": null,
            "_view_module": "@jupyter-widgets/base",
            "_view_module_version": "1.2.0",
            "_view_name": "StyleView",
            "bar_color": null,
            "description_width": ""
          }
        },
        "5cd657cf1d3e469f85fd1b82f9b95fd5": {
          "model_module": "@jupyter-widgets/base",
          "model_name": "LayoutModel",
          "model_module_version": "1.2.0",
          "state": {
            "_model_module": "@jupyter-widgets/base",
            "_model_module_version": "1.2.0",
            "_model_name": "LayoutModel",
            "_view_count": null,
            "_view_module": "@jupyter-widgets/base",
            "_view_module_version": "1.2.0",
            "_view_name": "LayoutView",
            "align_content": null,
            "align_items": null,
            "align_self": null,
            "border": null,
            "bottom": null,
            "display": null,
            "flex": null,
            "flex_flow": null,
            "grid_area": null,
            "grid_auto_columns": null,
            "grid_auto_flow": null,
            "grid_auto_rows": null,
            "grid_column": null,
            "grid_gap": null,
            "grid_row": null,
            "grid_template_areas": null,
            "grid_template_columns": null,
            "grid_template_rows": null,
            "height": null,
            "justify_content": null,
            "justify_items": null,
            "left": null,
            "margin": null,
            "max_height": null,
            "max_width": null,
            "min_height": null,
            "min_width": null,
            "object_fit": null,
            "object_position": null,
            "order": null,
            "overflow": null,
            "overflow_x": null,
            "overflow_y": null,
            "padding": null,
            "right": null,
            "top": null,
            "visibility": null,
            "width": null
          }
        },
        "b45022a4bdcc48aa9ff1c7082c6b88ea": {
          "model_module": "@jupyter-widgets/controls",
          "model_name": "DescriptionStyleModel",
          "model_module_version": "1.5.0",
          "state": {
            "_model_module": "@jupyter-widgets/controls",
            "_model_module_version": "1.5.0",
            "_model_name": "DescriptionStyleModel",
            "_view_count": null,
            "_view_module": "@jupyter-widgets/base",
            "_view_module_version": "1.2.0",
            "_view_name": "StyleView",
            "description_width": ""
          }
        },
        "e78da54abf1944cba3ffe63c4859aab6": {
          "model_module": "@jupyter-widgets/controls",
          "model_name": "HBoxModel",
          "model_module_version": "1.5.0",
          "state": {
            "_dom_classes": [],
            "_model_module": "@jupyter-widgets/controls",
            "_model_module_version": "1.5.0",
            "_model_name": "HBoxModel",
            "_view_count": null,
            "_view_module": "@jupyter-widgets/controls",
            "_view_module_version": "1.5.0",
            "_view_name": "HBoxView",
            "box_style": "",
            "children": [
              "IPY_MODEL_9706adeadec04a6e9c8d8eb4437ff512",
              "IPY_MODEL_b171eb44a71c441684b1530c7cb3313f",
              "IPY_MODEL_23524ac6cb6b408a9428ae4575dcfaa8"
            ],
            "layout": "IPY_MODEL_be3bbc1705e148b6bb0635b33191f816"
          }
        },
        "9706adeadec04a6e9c8d8eb4437ff512": {
          "model_module": "@jupyter-widgets/controls",
          "model_name": "HTMLModel",
          "model_module_version": "1.5.0",
          "state": {
            "_dom_classes": [],
            "_model_module": "@jupyter-widgets/controls",
            "_model_module_version": "1.5.0",
            "_model_name": "HTMLModel",
            "_view_count": null,
            "_view_module": "@jupyter-widgets/controls",
            "_view_module_version": "1.5.0",
            "_view_name": "HTMLView",
            "description": "",
            "description_tooltip": null,
            "layout": "IPY_MODEL_0bf220a1bab44890964ac4bcfdd3bcd4",
            "placeholder": "​",
            "style": "IPY_MODEL_622ec7ae7f43448da2f3dc0b8fc94488",
            "value": "100%"
          }
        },
        "b171eb44a71c441684b1530c7cb3313f": {
          "model_module": "@jupyter-widgets/controls",
          "model_name": "FloatProgressModel",
          "model_module_version": "1.5.0",
          "state": {
            "_dom_classes": [],
            "_model_module": "@jupyter-widgets/controls",
            "_model_module_version": "1.5.0",
            "_model_name": "FloatProgressModel",
            "_view_count": null,
            "_view_module": "@jupyter-widgets/controls",
            "_view_module_version": "1.5.0",
            "_view_name": "ProgressView",
            "bar_style": "success",
            "description": "",
            "description_tooltip": null,
            "layout": "IPY_MODEL_67cd35d6857f4bfbac12a4f1759ba17a",
            "max": 5120,
            "min": 0,
            "orientation": "horizontal",
            "style": "IPY_MODEL_f30c5fd3ef6245a988a5977d1c059cfc",
            "value": 5120
          }
        },
        "23524ac6cb6b408a9428ae4575dcfaa8": {
          "model_module": "@jupyter-widgets/controls",
          "model_name": "HTMLModel",
          "model_module_version": "1.5.0",
          "state": {
            "_dom_classes": [],
            "_model_module": "@jupyter-widgets/controls",
            "_model_module_version": "1.5.0",
            "_model_name": "HTMLModel",
            "_view_count": null,
            "_view_module": "@jupyter-widgets/controls",
            "_view_module_version": "1.5.0",
            "_view_name": "HTMLView",
            "description": "",
            "description_tooltip": null,
            "layout": "IPY_MODEL_8524f3c2b87c4d86a4de98563cecb1f0",
            "placeholder": "​",
            "style": "IPY_MODEL_d148831ff58044b88de39733e9e102cb",
            "value": " 5120/5120 [00:00&lt;00:00, 26349.07it/s]"
          }
        },
        "be3bbc1705e148b6bb0635b33191f816": {
          "model_module": "@jupyter-widgets/base",
          "model_name": "LayoutModel",
          "model_module_version": "1.2.0",
          "state": {
            "_model_module": "@jupyter-widgets/base",
            "_model_module_version": "1.2.0",
            "_model_name": "LayoutModel",
            "_view_count": null,
            "_view_module": "@jupyter-widgets/base",
            "_view_module_version": "1.2.0",
            "_view_name": "LayoutView",
            "align_content": null,
            "align_items": null,
            "align_self": null,
            "border": null,
            "bottom": null,
            "display": null,
            "flex": null,
            "flex_flow": null,
            "grid_area": null,
            "grid_auto_columns": null,
            "grid_auto_flow": null,
            "grid_auto_rows": null,
            "grid_column": null,
            "grid_gap": null,
            "grid_row": null,
            "grid_template_areas": null,
            "grid_template_columns": null,
            "grid_template_rows": null,
            "height": null,
            "justify_content": null,
            "justify_items": null,
            "left": null,
            "margin": null,
            "max_height": null,
            "max_width": null,
            "min_height": null,
            "min_width": null,
            "object_fit": null,
            "object_position": null,
            "order": null,
            "overflow": null,
            "overflow_x": null,
            "overflow_y": null,
            "padding": null,
            "right": null,
            "top": null,
            "visibility": null,
            "width": null
          }
        },
        "0bf220a1bab44890964ac4bcfdd3bcd4": {
          "model_module": "@jupyter-widgets/base",
          "model_name": "LayoutModel",
          "model_module_version": "1.2.0",
          "state": {
            "_model_module": "@jupyter-widgets/base",
            "_model_module_version": "1.2.0",
            "_model_name": "LayoutModel",
            "_view_count": null,
            "_view_module": "@jupyter-widgets/base",
            "_view_module_version": "1.2.0",
            "_view_name": "LayoutView",
            "align_content": null,
            "align_items": null,
            "align_self": null,
            "border": null,
            "bottom": null,
            "display": null,
            "flex": null,
            "flex_flow": null,
            "grid_area": null,
            "grid_auto_columns": null,
            "grid_auto_flow": null,
            "grid_auto_rows": null,
            "grid_column": null,
            "grid_gap": null,
            "grid_row": null,
            "grid_template_areas": null,
            "grid_template_columns": null,
            "grid_template_rows": null,
            "height": null,
            "justify_content": null,
            "justify_items": null,
            "left": null,
            "margin": null,
            "max_height": null,
            "max_width": null,
            "min_height": null,
            "min_width": null,
            "object_fit": null,
            "object_position": null,
            "order": null,
            "overflow": null,
            "overflow_x": null,
            "overflow_y": null,
            "padding": null,
            "right": null,
            "top": null,
            "visibility": null,
            "width": null
          }
        },
        "622ec7ae7f43448da2f3dc0b8fc94488": {
          "model_module": "@jupyter-widgets/controls",
          "model_name": "DescriptionStyleModel",
          "model_module_version": "1.5.0",
          "state": {
            "_model_module": "@jupyter-widgets/controls",
            "_model_module_version": "1.5.0",
            "_model_name": "DescriptionStyleModel",
            "_view_count": null,
            "_view_module": "@jupyter-widgets/base",
            "_view_module_version": "1.2.0",
            "_view_name": "StyleView",
            "description_width": ""
          }
        },
        "67cd35d6857f4bfbac12a4f1759ba17a": {
          "model_module": "@jupyter-widgets/base",
          "model_name": "LayoutModel",
          "model_module_version": "1.2.0",
          "state": {
            "_model_module": "@jupyter-widgets/base",
            "_model_module_version": "1.2.0",
            "_model_name": "LayoutModel",
            "_view_count": null,
            "_view_module": "@jupyter-widgets/base",
            "_view_module_version": "1.2.0",
            "_view_name": "LayoutView",
            "align_content": null,
            "align_items": null,
            "align_self": null,
            "border": null,
            "bottom": null,
            "display": null,
            "flex": null,
            "flex_flow": null,
            "grid_area": null,
            "grid_auto_columns": null,
            "grid_auto_flow": null,
            "grid_auto_rows": null,
            "grid_column": null,
            "grid_gap": null,
            "grid_row": null,
            "grid_template_areas": null,
            "grid_template_columns": null,
            "grid_template_rows": null,
            "height": null,
            "justify_content": null,
            "justify_items": null,
            "left": null,
            "margin": null,
            "max_height": null,
            "max_width": null,
            "min_height": null,
            "min_width": null,
            "object_fit": null,
            "object_position": null,
            "order": null,
            "overflow": null,
            "overflow_x": null,
            "overflow_y": null,
            "padding": null,
            "right": null,
            "top": null,
            "visibility": null,
            "width": null
          }
        },
        "f30c5fd3ef6245a988a5977d1c059cfc": {
          "model_module": "@jupyter-widgets/controls",
          "model_name": "ProgressStyleModel",
          "model_module_version": "1.5.0",
          "state": {
            "_model_module": "@jupyter-widgets/controls",
            "_model_module_version": "1.5.0",
            "_model_name": "ProgressStyleModel",
            "_view_count": null,
            "_view_module": "@jupyter-widgets/base",
            "_view_module_version": "1.2.0",
            "_view_name": "StyleView",
            "bar_color": null,
            "description_width": ""
          }
        },
        "8524f3c2b87c4d86a4de98563cecb1f0": {
          "model_module": "@jupyter-widgets/base",
          "model_name": "LayoutModel",
          "model_module_version": "1.2.0",
          "state": {
            "_model_module": "@jupyter-widgets/base",
            "_model_module_version": "1.2.0",
            "_model_name": "LayoutModel",
            "_view_count": null,
            "_view_module": "@jupyter-widgets/base",
            "_view_module_version": "1.2.0",
            "_view_name": "LayoutView",
            "align_content": null,
            "align_items": null,
            "align_self": null,
            "border": null,
            "bottom": null,
            "display": null,
            "flex": null,
            "flex_flow": null,
            "grid_area": null,
            "grid_auto_columns": null,
            "grid_auto_flow": null,
            "grid_auto_rows": null,
            "grid_column": null,
            "grid_gap": null,
            "grid_row": null,
            "grid_template_areas": null,
            "grid_template_columns": null,
            "grid_template_rows": null,
            "height": null,
            "justify_content": null,
            "justify_items": null,
            "left": null,
            "margin": null,
            "max_height": null,
            "max_width": null,
            "min_height": null,
            "min_width": null,
            "object_fit": null,
            "object_position": null,
            "order": null,
            "overflow": null,
            "overflow_x": null,
            "overflow_y": null,
            "padding": null,
            "right": null,
            "top": null,
            "visibility": null,
            "width": null
          }
        },
        "d148831ff58044b88de39733e9e102cb": {
          "model_module": "@jupyter-widgets/controls",
          "model_name": "DescriptionStyleModel",
          "model_module_version": "1.5.0",
          "state": {
            "_model_module": "@jupyter-widgets/controls",
            "_model_module_version": "1.5.0",
            "_model_name": "DescriptionStyleModel",
            "_view_count": null,
            "_view_module": "@jupyter-widgets/base",
            "_view_module_version": "1.2.0",
            "_view_name": "StyleView",
            "description_width": ""
          }
        }
      }
    }
  },
  "nbformat": 4,
  "nbformat_minor": 5
}