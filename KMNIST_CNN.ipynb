{
  "cells": [
    {
      "cell_type": "markdown",
      "metadata": {
        "id": "view-in-github",
        "colab_type": "text"
      },
      "source": [
        "<a href=\"https://colab.research.google.com/github/citurriagab/CNN_M6_Trab2/blob/main/KMNIST_CNN.ipynb\" target=\"_parent\"><img src=\"https://colab.research.google.com/assets/colab-badge.svg\" alt=\"Open In Colab\"/></a>"
      ]
    },
    {
      "cell_type": "markdown",
      "id": "a2f7e3dd",
      "metadata": {
        "id": "a2f7e3dd"
      },
      "source": [
        "### Trabajo N° 2\n",
        "\n",
        "#### Deep Learning \n",
        "\n",
        "**Análisis Supervisado**\n",
        "\n",
        "**Clasificación**\n",
        "\n",
        "*Carla Iturriaga Barrios*\n",
        "\n",
        "*Rodrigo Lefin Carrasco*\n",
        "\n",
        "Septiembre, 2022"
      ]
    },
    {
      "cell_type": "markdown",
      "source": [
        "### Presentación del proyecto.\n",
        "\n",
        "*Una empresa de consultoria que presta servicios de traducción, utilizando herramientas de Deep Learning, tiene un nuevo cliente que requiere **identificar letras del japonés clásico pero desde imágenes**.*\n",
        "\n",
        "**Fuente de datos**: *Dataset correspondiente a imagenes de datos reimpresos del japonés clásico \"Kuzushiji\" obtenido directamente de la librería pytorch*"
      ],
      "metadata": {
        "id": "OQQ5SQU-nwfB"
      },
      "id": "OQQ5SQU-nwfB"
    },
    {
      "cell_type": "markdown",
      "source": [
        "### Objetivo del proyecto.\n",
        "\n",
        "1. *Construir un modelo que sea capaz de clasificar y categorizar en letras del japonés clásico un conjunto de imágenes de la letra desde textos reimpresos.*"
      ],
      "metadata": {
        "id": "fOACytchpSS6"
      },
      "id": "fOACytchpSS6"
    },
    {
      "cell_type": "markdown",
      "source": [
        "### Preparación del entorno"
      ],
      "metadata": {
        "id": "5cAciMwnuxWa"
      },
      "id": "5cAciMwnuxWa"
    },
    {
      "cell_type": "code",
      "execution_count": 55,
      "id": "2b2f4160",
      "metadata": {
        "id": "2b2f4160"
      },
      "outputs": [],
      "source": [
        "from torchvision import datasets\n",
        "from torchvision import transforms \n",
        "import torch\n",
        "import torch.nn as nn\n",
        "import torch.nn.functional as F\n",
        "from matplotlib import pyplot as plt\n",
        "import datetime\n",
        "import torchvision\n",
        "import numpy as np"
      ]
    },
    {
      "cell_type": "markdown",
      "source": [
        "### 1: Datos"
      ],
      "metadata": {
        "id": "TNHtQKbHu26S"
      },
      "id": "TNHtQKbHu26S"
    },
    {
      "cell_type": "markdown",
      "source": [
        "*Los siguientes datos corresponden a una base de 70.000 imagenes de 28x28 con la reimpresión de textos japoneses. La categorización de ellas se divide en 10 clases correspondientes a letras del japonés clásico, tales como: **'o', 'ki', 'su', 'tsu', etc**.*"
      ],
      "metadata": {
        "id": "Ac85q8x0rEZF"
      },
      "id": "Ac85q8x0rEZF"
    },
    {
      "cell_type": "code",
      "source": [
        "path = './data/'\n",
        "\n",
        "# configuración de dataset de entrenamiento y de prueba\n",
        "df = datasets.KMNIST(path, train=True, download=True)\n",
        "df_test = datasets.KMNIST(path, train=False, download=True)"
      ],
      "metadata": {
        "id": "LxWubopMwATj"
      },
      "id": "LxWubopMwATj",
      "execution_count": 93,
      "outputs": []
    },
    {
      "cell_type": "code",
      "source": [
        "# Largo del dataset\n",
        "print('Registros de entrenamiento:', len(df))\n",
        "print('Registros de prueba:', len(df_test))"
      ],
      "metadata": {
        "colab": {
          "base_uri": "https://localhost:8080/"
        },
        "id": "gZdFVC0lxooW",
        "outputId": "87c91662-d4aa-481e-a714-483b5ddfaa3f"
      },
      "id": "gZdFVC0lxooW",
      "execution_count": 105,
      "outputs": [
        {
          "output_type": "stream",
          "name": "stdout",
          "text": [
            "Registros de entrenamiento: 60000\n",
            "Registros de prueba: 10000\n"
          ]
        }
      ]
    },
    {
      "cell_type": "code",
      "source": [
        "# Especificación de las etiquetas/label\n",
        "df.classes"
      ],
      "metadata": {
        "colab": {
          "base_uri": "https://localhost:8080/"
        },
        "id": "3u3nNhXlx0d_",
        "outputId": "d83aa08b-6d2b-4117-eed1-6c0b3b4e82e8"
      },
      "id": "3u3nNhXlx0d_",
      "execution_count": 101,
      "outputs": [
        {
          "output_type": "execute_result",
          "data": {
            "text/plain": [
              "['o', 'ki', 'su', 'tsu', 'na', 'ha', 'ma', 'ya', 're', 'wo']"
            ]
          },
          "metadata": {},
          "execution_count": 101
        }
      ]
    },
    {
      "cell_type": "markdown",
      "source": [
        "#### Previsualización de imagenes del dataset\n",
        "\n",
        "*En adelante, se muestran algunos ejemplares de los registros del dataset KMNIST, correspondiente a la letra en compañía con su etiqueta o clase*"
      ],
      "metadata": {
        "id": "SQHUf--KtdDS"
      },
      "id": "SQHUf--KtdDS"
    },
    {
      "cell_type": "code",
      "source": [
        "#Previsualización de una imagen dentro del dataset\n",
        "img, label = df[10]\n",
        "plt.imshow(img)\n",
        "print('la siguiente imagen corresponde al label:', label, 'correspondiente a:', df.classes[label])\n",
        "plt.show()"
      ],
      "metadata": {
        "colab": {
          "base_uri": "https://localhost:8080/",
          "height": 282
        },
        "id": "uRzgApSDxFAj",
        "outputId": "8b4d752c-b345-4877-cc85-7d574d4fc268"
      },
      "id": "uRzgApSDxFAj",
      "execution_count": 102,
      "outputs": [
        {
          "output_type": "stream",
          "name": "stdout",
          "text": [
            "la siguiente imagen corresponde al label: 5 correspondiente a: ha\n"
          ]
        },
        {
          "output_type": "display_data",
          "data": {
            "text/plain": [
              "<Figure size 432x288 with 1 Axes>"
            ],
            "image/png": "[encoded data removed]"
          },
          "metadata": {
            "needs_background": "light"
          }
        }
      ]
    },
    {
      "cell_type": "code",
      "source": [
        "#Previsualización de una imagen dentro del dataset\n",
        "img2, label2 = df[90]\n",
        "plt.imshow(img2)\n",
        "print('la siguiente imagen corresponde al label:', label2, 'correspondiente a:', df.classes[label2])\n",
        "plt.show()"
      ],
      "metadata": {
        "colab": {
          "base_uri": "https://localhost:8080/",
          "height": 282
        },
        "id": "UqTbNX9AxkPW",
        "outputId": "5ff3921a-8511-41eb-fdba-37ff216e4acc"
      },
      "id": "UqTbNX9AxkPW",
      "execution_count": 103,
      "outputs": [
        {
          "output_type": "stream",
          "name": "stdout",
          "text": [
            "la siguiente imagen corresponde al label: 2 correspondiente a: su\n"
          ]
        },
        {
          "output_type": "display_data",
          "data": {
            "text/plain": [
              "<Figure size 432x288 with 1 Axes>"
            ],
            "image/png": "[encoded data removed]"
          },
          "metadata": {
            "needs_background": "light"
          }
        }
      ]
    },
    {
      "cell_type": "code",
      "source": [
        "#Previsualización de una imagen dentro del dataset\n",
        "img3, label3 = df[25000]\n",
        "plt.imshow(img3)\n",
        "print('la siguiente imagen corresponde al label:', label3, 'correspondiente a:', df.classes[label3])\n",
        "plt.show()"
      ],
      "metadata": {
        "colab": {
          "base_uri": "https://localhost:8080/",
          "height": 282
        },
        "id": "g0YxXIrjuiWe",
        "outputId": "28ab1899-ae1f-4870-c4b7-62e686d7d071"
      },
      "id": "g0YxXIrjuiWe",
      "execution_count": 104,
      "outputs": [
        {
          "output_type": "stream",
          "name": "stdout",
          "text": [
            "la siguiente imagen corresponde al label: 3 correspondiente a: tsu\n"
          ]
        },
        {
          "output_type": "display_data",
          "data": {
            "text/plain": [
              "<Figure size 432x288 with 1 Axes>"
            ],
            "image/png": "[encoded data removed]"
          },
          "metadata": {
            "needs_background": "light"
          }
        }
      ]
    },
    {
      "cell_type": "markdown",
      "source": [
        "#### Transformación y Normalización de imagenes a tensor de PyTorch\n",
        "\n",
        "*Para seguir con el análisis y modelamiento, es requerido transformar los registros del dataset desde imágenes a tensores y, posteriormente, normalizar sus medidas de promedio y desviación estándar*"
      ],
      "metadata": {
        "id": "VorRhgpyuqJ1"
      },
      "id": "VorRhgpyuqJ1"
    },
    {
      "cell_type": "code",
      "source": [
        "# Transformar data a tensor de pytorch y normalizar\n",
        "df = datasets.KMNIST(\n",
        "    path, train=True, download=True, \n",
        "    transform=transforms.Compose([\n",
        "        transforms.ToTensor(),\n",
        "        #transforms.Normalize((0.4915, 0.4823, 0.4468), (0.2470, 0.2435, 0.2616)),\n",
        "        transforms.Normalize((0.5,),(0.5,)),\n",
        "        transforms.Lambda(lambda x: x.repeat(3, 1, 1))\n",
        "        \n",
        "    ])\n",
        ")\n",
        "\n",
        "df_test = datasets.KMNIST(\n",
        "    path, train=False, download=True, \n",
        "    transform=transforms.Compose([\n",
        "        transforms.ToTensor(),\n",
        "        #transforms.Normalize((0.4915, 0.4823, 0.4468), (0.2470, 0.2435, 0.2616)),\n",
        "        transforms.Normalize((0.5,),(0.5,)),\n",
        "        transforms.Lambda(lambda x: x.repeat(3, 1, 1))\n",
        "\n",
        "    ])\n",
        ")"
      ],
      "metadata": {
        "id": "wucg13EczE0U"
      },
      "id": "wucg13EczE0U",
      "execution_count": 112,
      "outputs": []
    },
    {
      "cell_type": "markdown",
      "source": [
        "#### Información del dataset"
      ],
      "metadata": {
        "id": "_wQhcBNYvXpQ"
      },
      "id": "_wQhcBNYvXpQ"
    },
    {
      "cell_type": "code",
      "source": [
        "print('Entrenamiento: ', df)"
      ],
      "metadata": {
        "colab": {
          "base_uri": "https://localhost:8080/"
        },
        "id": "02z7M7An8gOs",
        "outputId": "c0ed66fc-f7f6-4180-ae92-1a81755ed3cf"
      },
      "id": "02z7M7An8gOs",
      "execution_count": 108,
      "outputs": [
        {
          "output_type": "stream",
          "name": "stdout",
          "text": [
            "Entrenamiento:  Dataset KMNIST\n",
            "    Number of datapoints: 60000\n",
            "    Root location: ./data/\n",
            "    Split: Train\n"
          ]
        }
      ]
    },
    {
      "cell_type": "code",
      "source": [
        "print('Prueba: ', df_test)"
      ],
      "metadata": {
        "colab": {
          "base_uri": "https://localhost:8080/"
        },
        "id": "6raNRzykyNnj",
        "outputId": "c27e305a-189e-45d4-c285-c4cd1d75f8fd"
      },
      "id": "6raNRzykyNnj",
      "execution_count": 109,
      "outputs": [
        {
          "output_type": "stream",
          "name": "stdout",
          "text": [
            "Prueba:  Dataset KMNIST\n",
            "    Number of datapoints: 10000\n",
            "    Root location: ./data/\n",
            "    Split: Test\n"
          ]
        }
      ]
    },
    {
      "cell_type": "markdown",
      "source": [
        "#### Visualización de los registros transformados en Tensores\n",
        "\n",
        "*En adelante, se genera una demostración gráfica del nuevo registro tensor*"
      ],
      "metadata": {
        "id": "a-V_wfTmwqva"
      },
      "id": "a-V_wfTmwqva"
    },
    {
      "cell_type": "code",
      "source": [
        "# Graficar la imagen transformada\n",
        "img_t, label = df[10]\n",
        "#plt.imshow(img_t.permute(1,2,0))\n",
        "plt.imshow(torchvision.utils.make_grid(img_t, nrow=5).permute(1, 2, 0))\n",
        "print('La siguiente imagen corresponde al label:', label, 'correspondiente a:', df.classes[label])\n",
        "plt.show()"
      ],
      "metadata": {
        "colab": {
          "base_uri": "https://localhost:8080/",
          "height": 300
        },
        "id": "jzSQMzCb0Aq0",
        "outputId": "f0d8c5f9-7339-479a-f72f-b5d68367a8db"
      },
      "id": "jzSQMzCb0Aq0",
      "execution_count": 114,
      "outputs": [
        {
          "output_type": "stream",
          "name": "stderr",
          "text": [
            "WARNING:matplotlib.image:Clipping input data to the valid range for imshow with RGB data ([0..1] for floats or [0..255] for integers).\n"
          ]
        },
        {
          "output_type": "stream",
          "name": "stdout",
          "text": [
            "La siguiente imagen corresponde al label: 5 correspondiente a: ha\n"
          ]
        },
        {
          "output_type": "display_data",
          "data": {
            "text/plain": [
              "<Figure size 432x288 with 1 Axes>"
            ],
            "image/png": "[encoded data removed]"
          },
          "metadata": {
            "needs_background": "light"
          }
        }
      ]
    },
    {
      "cell_type": "markdown",
      "source": [
        "### 2. Modelo\n",
        "\n",
        "*Dado el tipo de registros (imágenes) e información con la que se está trabajando en el presente proyecto, se decide configurar y entrenar el modelo **CNN** (Convolutional Neural Network)*\n",
        "\n",
        "*Para ello, se desarrolla, a continuación, la red neuronal con **2 hiden layers**, donde el registro de entrada al primer layer corresponde a un input de 3 dimensiones y la última **salida correspondería a 10 clases**.*"
      ],
      "metadata": {
        "id": "3LP7wNot6kSL"
      },
      "id": "3LP7wNot6kSL"
    },
    {
      "cell_type": "code",
      "execution_count": 115,
      "id": "a7cfc5a9",
      "metadata": {
        "id": "a7cfc5a9"
      },
      "outputs": [],
      "source": [
        "# Model \n",
        "class CNN(nn.Module):\n",
        "    \"\"\"Cada arquitectura es una forma funcional de la red.\"\"\"\n",
        "    def __init__(self):\n",
        "        super().__init__()\n",
        "        self.conv1 = nn.Conv2d(3, 16, kernel_size=3, padding=1) # convolutional layer\n",
        "        self.conv2 = nn.Conv2d(16, 8, kernel_size=3, padding=1) # convolutional layer\n",
        "        self.fc1 = nn.Linear(8 * 8 * 8, 32)                     # Fully connected\n",
        "        self.fc2 = nn.Linear(32, 10)                             # Fully connected\n",
        "\n",
        "    def forward(self, x): # input img\n",
        "        out = F.max_pool2d(torch.tanh(self.conv1(x)), 2)        # max pooling\n",
        "        out = F.max_pool2d(torch.tanh(self.conv2(out)), 2)      # max pooling\n",
        "        out = out.view(-1, 8 * 8 * 8)                           # tranform the out\n",
        "        out = torch.tanh(self.fc1(out))\n",
        "        out = self.fc2(out)\n",
        "        return out  # dim: number of class"
      ]
    },
    {
      "cell_type": "markdown",
      "source": [
        "*En la siguiente **función de entrenamiento**, queda definido genericamente el proceso en bucle al que deben someterse las imágenes/tensores para entrenar el modelo, donde se tiene como input la cantidad de iteraciones (epochs), el modelo (CNN), optimizador, la función de error y la definición de los batches*"
      ],
      "metadata": {
        "id": "Inqy_deA0BfY"
      },
      "id": "Inqy_deA0BfY"
    },
    {
      "cell_type": "code",
      "execution_count": 65,
      "id": "43d63284",
      "metadata": {
        "id": "43d63284"
      },
      "outputs": [],
      "source": [
        "# Training function \n",
        "def training_loop(n_epochs, optimizer, model, loss_fn, train_loader):\n",
        "    loss_list = []\n",
        "    for epoch in range(1, n_epochs + 1):\n",
        "        loss_train = 0.0 \n",
        "        for imgs, labels in train_loader:  # batch \n",
        "            outputs = model(imgs)\n",
        "            loss = loss_fn(outputs, labels)\n",
        "            optimizer.zero_grad()\n",
        "            loss.backward()               # backpro\n",
        "            optimizer.step()              # update w\n",
        "            \n",
        "            loss_train += loss.item()\n",
        "        if epoch == 1 or epoch % 10 == 0:\n",
        "            print('Epoch {}, Training loss {}'.format(epoch,\n",
        "            loss_train / len(train_loader)))\n",
        "            loss_list.append(loss_train / len(train_loader))\n",
        "    return loss_list\n",
        "            "
      ]
    },
    {
      "cell_type": "markdown",
      "source": [
        "#### Entrenando el modelo...\n",
        "\n",
        "*Ya con el modelo y las funciones definidas, el set de datos KMNIST debe entrenar el modelo, donde:*\n",
        "\n",
        "* *El **modelo** definido, como anteriormente se mencionó es el de **Convolutional Neural Network**, dado que los registros pertenecen a la categoria **imagenes**.*\n",
        "\n",
        "* *El **Optimizador** definido será **Adam**, dado que al ser una versión más actual y al estar construido en base a SGD, se espera un rendimiento superior en sus restulados*\n",
        "\n",
        "* *En cuanto a la **Función de pérdida**, se utilizará **Cross Entropy** ya que este proyecto es de clasificación*"
      ],
      "metadata": {
        "id": "zefiuhZJwhPw"
      },
      "id": "zefiuhZJwhPw"
    },
    {
      "cell_type": "markdown",
      "source": [
        "**Hiperparámetros (W)**\n",
        "\n",
        "*En términos de los hiperparametros del modelo CNN:*\n",
        "\n",
        "- **Batches**: Se optará por **32**, para la división de la base de datos.\n",
        "\n",
        "- **Learning Rate (lr)**: Este se definirá como **0.01**, con la intención de búsqueda del valor óptimo en una rapidez mediana.\n",
        "\n",
        "- **Epochs**: La cantidad de iteraciones serán **50**, dado que se requiere un número alto para la búsqueda del valor óptimo y disminuir lo más posible el error."
      ],
      "metadata": {
        "id": "N2rrI38D6jJs"
      },
      "id": "N2rrI38D6jJs"
    },
    {
      "cell_type": "code",
      "source": [
        "# Dataloader\n",
        "train_loader = torch.utils.data.DataLoader(df, batch_size=32, shuffle=True)"
      ],
      "metadata": {
        "id": "UZM8HydN6viW"
      },
      "id": "UZM8HydN6viW",
      "execution_count": 119,
      "outputs": []
    },
    {
      "cell_type": "code",
      "execution_count": 118,
      "id": "174fa7c5",
      "metadata": {
        "id": "174fa7c5",
        "outputId": "5bcf3386-2f6a-4fb4-9e52-6344b060984b",
        "colab": {
          "base_uri": "https://localhost:8080/",
          "height": 380
        }
      },
      "outputs": [
        {
          "output_type": "error",
          "ename": "RuntimeError",
          "evalue": "ignored",
          "traceback": [
            "\u001b[0;31m---------------------------------------------------------------------------\u001b[0m",
            "\u001b[0;31mRuntimeError\u001b[0m                              Traceback (most recent call last)",
            "\u001b[0;32m<ipython-input-118-f271ea5079f2>\u001b[0m in \u001b[0;36m<module>\u001b[0;34m\u001b[0m\n\u001b[1;32m      9\u001b[0m     \u001b[0mmodel\u001b[0m \u001b[0;34m=\u001b[0m \u001b[0mmodel\u001b[0m\u001b[0;34m,\u001b[0m\u001b[0;34m\u001b[0m\u001b[0;34m\u001b[0m\u001b[0m\n\u001b[1;32m     10\u001b[0m     \u001b[0mloss_fn\u001b[0m \u001b[0;34m=\u001b[0m \u001b[0mloss_fn\u001b[0m\u001b[0;34m,\u001b[0m\u001b[0;34m\u001b[0m\u001b[0;34m\u001b[0m\u001b[0m\n\u001b[0;32m---> 11\u001b[0;31m     \u001b[0mtrain_loader\u001b[0m \u001b[0;34m=\u001b[0m \u001b[0mtrain_loader\u001b[0m\u001b[0;34m,\u001b[0m\u001b[0;34m\u001b[0m\u001b[0;34m\u001b[0m\u001b[0m\n\u001b[0m\u001b[1;32m     12\u001b[0m )\n\u001b[1;32m     13\u001b[0m \u001b[0;34m\u001b[0m\u001b[0m\n",
            "\u001b[0;32m<ipython-input-65-61824c9b6621>\u001b[0m in \u001b[0;36mtraining_loop\u001b[0;34m(n_epochs, optimizer, model, loss_fn, train_loader)\u001b[0m\n\u001b[1;32m      5\u001b[0m         \u001b[0mloss_train\u001b[0m \u001b[0;34m=\u001b[0m \u001b[0;36m0.0\u001b[0m\u001b[0;34m\u001b[0m\u001b[0;34m\u001b[0m\u001b[0m\n\u001b[1;32m      6\u001b[0m         \u001b[0;32mfor\u001b[0m \u001b[0mimgs\u001b[0m\u001b[0;34m,\u001b[0m \u001b[0mlabels\u001b[0m \u001b[0;32min\u001b[0m \u001b[0mtrain_loader\u001b[0m\u001b[0;34m:\u001b[0m  \u001b[0;31m# batch\u001b[0m\u001b[0;34m\u001b[0m\u001b[0;34m\u001b[0m\u001b[0m\n\u001b[0;32m----> 7\u001b[0;31m             \u001b[0moutputs\u001b[0m \u001b[0;34m=\u001b[0m \u001b[0mmodel\u001b[0m\u001b[0;34m(\u001b[0m\u001b[0mimgs\u001b[0m\u001b[0;34m)\u001b[0m\u001b[0;34m\u001b[0m\u001b[0;34m\u001b[0m\u001b[0m\n\u001b[0m\u001b[1;32m      8\u001b[0m             \u001b[0mloss\u001b[0m \u001b[0;34m=\u001b[0m \u001b[0mloss_fn\u001b[0m\u001b[0;34m(\u001b[0m\u001b[0moutputs\u001b[0m\u001b[0;34m,\u001b[0m \u001b[0mlabels\u001b[0m\u001b[0;34m)\u001b[0m\u001b[0;34m\u001b[0m\u001b[0;34m\u001b[0m\u001b[0m\n\u001b[1;32m      9\u001b[0m             \u001b[0moptimizer\u001b[0m\u001b[0;34m.\u001b[0m\u001b[0mzero_grad\u001b[0m\u001b[0;34m(\u001b[0m\u001b[0;34m)\u001b[0m\u001b[0;34m\u001b[0m\u001b[0;34m\u001b[0m\u001b[0m\n",
            "\u001b[0;32m/usr/local/lib/python3.7/dist-packages/torch/nn/modules/module.py\u001b[0m in \u001b[0;36m_call_impl\u001b[0;34m(self, *input, **kwargs)\u001b[0m\n\u001b[1;32m   1128\u001b[0m         if not (self._backward_hooks or self._forward_hooks or self._forward_pre_hooks or _global_backward_hooks\n\u001b[1;32m   1129\u001b[0m                 or _global_forward_hooks or _global_forward_pre_hooks):\n\u001b[0;32m-> 1130\u001b[0;31m             \u001b[0;32mreturn\u001b[0m \u001b[0mforward_call\u001b[0m\u001b[0;34m(\u001b[0m\u001b[0;34m*\u001b[0m\u001b[0minput\u001b[0m\u001b[0;34m,\u001b[0m \u001b[0;34m**\u001b[0m\u001b[0mkwargs\u001b[0m\u001b[0;34m)\u001b[0m\u001b[0;34m\u001b[0m\u001b[0;34m\u001b[0m\u001b[0m\n\u001b[0m\u001b[1;32m   1131\u001b[0m         \u001b[0;31m# Do not call functions when jit is used\u001b[0m\u001b[0;34m\u001b[0m\u001b[0;34m\u001b[0m\u001b[0;34m\u001b[0m\u001b[0m\n\u001b[1;32m   1132\u001b[0m         \u001b[0mfull_backward_hooks\u001b[0m\u001b[0;34m,\u001b[0m \u001b[0mnon_full_backward_hooks\u001b[0m \u001b[0;34m=\u001b[0m \u001b[0;34m[\u001b[0m\u001b[0;34m]\u001b[0m\u001b[0;34m,\u001b[0m \u001b[0;34m[\u001b[0m\u001b[0;34m]\u001b[0m\u001b[0;34m\u001b[0m\u001b[0;34m\u001b[0m\u001b[0m\n",
            "\u001b[0;32m<ipython-input-115-925176b87221>\u001b[0m in \u001b[0;36mforward\u001b[0;34m(self, x)\u001b[0m\n\u001b[1;32m     12\u001b[0m         \u001b[0mout\u001b[0m \u001b[0;34m=\u001b[0m \u001b[0mF\u001b[0m\u001b[0;34m.\u001b[0m\u001b[0mmax_pool2d\u001b[0m\u001b[0;34m(\u001b[0m\u001b[0mtorch\u001b[0m\u001b[0;34m.\u001b[0m\u001b[0mtanh\u001b[0m\u001b[0;34m(\u001b[0m\u001b[0mself\u001b[0m\u001b[0;34m.\u001b[0m\u001b[0mconv1\u001b[0m\u001b[0;34m(\u001b[0m\u001b[0mx\u001b[0m\u001b[0;34m)\u001b[0m\u001b[0;34m)\u001b[0m\u001b[0;34m,\u001b[0m \u001b[0;36m2\u001b[0m\u001b[0;34m)\u001b[0m        \u001b[0;31m# max pooling\u001b[0m\u001b[0;34m\u001b[0m\u001b[0;34m\u001b[0m\u001b[0m\n\u001b[1;32m     13\u001b[0m         \u001b[0mout\u001b[0m \u001b[0;34m=\u001b[0m \u001b[0mF\u001b[0m\u001b[0;34m.\u001b[0m\u001b[0mmax_pool2d\u001b[0m\u001b[0;34m(\u001b[0m\u001b[0mtorch\u001b[0m\u001b[0;34m.\u001b[0m\u001b[0mtanh\u001b[0m\u001b[0;34m(\u001b[0m\u001b[0mself\u001b[0m\u001b[0;34m.\u001b[0m\u001b[0mconv2\u001b[0m\u001b[0;34m(\u001b[0m\u001b[0mout\u001b[0m\u001b[0;34m)\u001b[0m\u001b[0;34m)\u001b[0m\u001b[0;34m,\u001b[0m \u001b[0;36m2\u001b[0m\u001b[0;34m)\u001b[0m      \u001b[0;31m# max pooling\u001b[0m\u001b[0;34m\u001b[0m\u001b[0;34m\u001b[0m\u001b[0m\n\u001b[0;32m---> 14\u001b[0;31m         \u001b[0mout\u001b[0m \u001b[0;34m=\u001b[0m \u001b[0mout\u001b[0m\u001b[0;34m.\u001b[0m\u001b[0mview\u001b[0m\u001b[0;34m(\u001b[0m\u001b[0;34m-\u001b[0m\u001b[0;36m1\u001b[0m\u001b[0;34m,\u001b[0m \u001b[0;36m8\u001b[0m \u001b[0;34m*\u001b[0m \u001b[0;36m8\u001b[0m \u001b[0;34m*\u001b[0m \u001b[0;36m8\u001b[0m\u001b[0;34m)\u001b[0m                           \u001b[0;31m# tranform the out\u001b[0m\u001b[0;34m\u001b[0m\u001b[0;34m\u001b[0m\u001b[0m\n\u001b[0m\u001b[1;32m     15\u001b[0m         \u001b[0mout\u001b[0m \u001b[0;34m=\u001b[0m \u001b[0mtorch\u001b[0m\u001b[0;34m.\u001b[0m\u001b[0mtanh\u001b[0m\u001b[0;34m(\u001b[0m\u001b[0mself\u001b[0m\u001b[0;34m.\u001b[0m\u001b[0mfc1\u001b[0m\u001b[0;34m(\u001b[0m\u001b[0mout\u001b[0m\u001b[0;34m)\u001b[0m\u001b[0;34m)\u001b[0m\u001b[0;34m\u001b[0m\u001b[0;34m\u001b[0m\u001b[0m\n\u001b[1;32m     16\u001b[0m         \u001b[0mout\u001b[0m \u001b[0;34m=\u001b[0m \u001b[0mself\u001b[0m\u001b[0;34m.\u001b[0m\u001b[0mfc2\u001b[0m\u001b[0;34m(\u001b[0m\u001b[0mout\u001b[0m\u001b[0;34m)\u001b[0m\u001b[0;34m\u001b[0m\u001b[0;34m\u001b[0m\u001b[0m\n",
            "\u001b[0;31mRuntimeError\u001b[0m: shape '[-1, 512]' is invalid for input of size 12544"
          ]
        }
      ],
      "source": [
        "# Run, traning\n",
        "model = CNN()                                      # call our cnn class\n",
        "optimizer = torch.optim.Adam(model.parameters(), lr=0.01) # Stochastic gradient descent\n",
        "loss_fn = nn.CrossEntropyLoss()                    # Loss function\n",
        "\n",
        "Loss1 = training_loop(\n",
        "    n_epochs = 50,\n",
        "    optimizer = optimizer,\n",
        "    model = model,\n",
        "    loss_fn = loss_fn,\n",
        "    train_loader = train_loader,\n",
        ")\n",
        "\n"
      ]
    },
    {
      "cell_type": "markdown",
      "source": [
        "#### Visualización de la función de pérdida (Loss F.)\n",
        "\n",
        "*El siguiente gráfico presenta la curvatura que va tomando el error al avanzar las iteraciones del modelo (epochs), de ello se puede mencionar que:*\n",
        "\n",
        "*En primera instancia, los errores toman valores altos que van disminuyendo al iterar cada vez más, ............\"llegando a la iteración XXXX, loss function toma un valor que se puede considerar como óptimo...............*"
      ],
      "metadata": {
        "id": "wi5ytEpm7dSl"
      },
      "id": "wi5ytEpm7dSl"
    },
    {
      "cell_type": "code",
      "execution_count": 81,
      "id": "fbb51c29",
      "metadata": {
        "id": "fbb51c29",
        "outputId": "01f5dba7-1679-4072-fc2e-0b5436cf92fc",
        "colab": {
          "base_uri": "https://localhost:8080/",
          "height": 217
        }
      },
      "outputs": [
        {
          "output_type": "error",
          "ename": "NameError",
          "evalue": "ignored",
          "traceback": [
            "\u001b[0;31m---------------------------------------------------------------------------\u001b[0m",
            "\u001b[0;31mNameError\u001b[0m                                 Traceback (most recent call last)",
            "\u001b[0;32m<ipython-input-81-6b80a7c83999>\u001b[0m in \u001b[0;36m<module>\u001b[0;34m\u001b[0m\n\u001b[1;32m      1\u001b[0m \u001b[0;31m# plot loss\u001b[0m\u001b[0;34m\u001b[0m\u001b[0;34m\u001b[0m\u001b[0;34m\u001b[0m\u001b[0m\n\u001b[0;32m----> 2\u001b[0;31m \u001b[0mplt\u001b[0m\u001b[0;34m.\u001b[0m\u001b[0mplot\u001b[0m\u001b[0;34m(\u001b[0m\u001b[0mLoss1\u001b[0m\u001b[0;34m)\u001b[0m\u001b[0;34m\u001b[0m\u001b[0;34m\u001b[0m\u001b[0m\n\u001b[0m\u001b[1;32m      3\u001b[0m \u001b[0mplt\u001b[0m\u001b[0;34m.\u001b[0m\u001b[0mxlabel\u001b[0m\u001b[0;34m(\u001b[0m\u001b[0;34m'Epoch(x10)'\u001b[0m\u001b[0;34m)\u001b[0m\u001b[0;34m\u001b[0m\u001b[0;34m\u001b[0m\u001b[0m\n\u001b[1;32m      4\u001b[0m \u001b[0mplt\u001b[0m\u001b[0;34m.\u001b[0m\u001b[0mylabel\u001b[0m\u001b[0;34m(\u001b[0m\u001b[0;34m'Loss'\u001b[0m\u001b[0;34m)\u001b[0m\u001b[0;34m\u001b[0m\u001b[0;34m\u001b[0m\u001b[0m\n",
            "\u001b[0;31mNameError\u001b[0m: name 'Loss1' is not defined"
          ]
        }
      ],
      "source": [
        "# plot loss\n",
        "plt.plot(Loss1)\n",
        "plt.xlabel('Epoch(x10)')\n",
        "plt.ylabel('Loss')"
      ]
    },
    {
      "cell_type": "markdown",
      "source": [
        "### 3. Métricas y Resultados"
      ],
      "metadata": {
        "id": "l2m9Y_es6q6S"
      },
      "id": "l2m9Y_es6q6S"
    },
    {
      "cell_type": "markdown",
      "source": [
        "**Métricas.**\n",
        "\n",
        "*Dentro de las métricas a calcular en el presente proyecto para definir qué tan bueno es el modelo desarrolado, se tienen las siguientes:*\n",
        "\n",
        "- Accuracy\n",
        "\n",
        "- F1\n",
        "\n",
        "- AUC\n",
        "\n",
        "- Precision\n",
        "\n",
        "- Recall"
      ],
      "metadata": {
        "id": "QYDZtA2G9A8o"
      },
      "id": "QYDZtA2G9A8o"
    },
    {
      "cell_type": "markdown",
      "source": [],
      "metadata": {
        "id": "Gn1Qk-c89A6G"
      },
      "id": "Gn1Qk-c89A6G"
    },
    {
      "cell_type": "code",
      "execution_count": 83,
      "id": "5a795183",
      "metadata": {
        "id": "5a795183",
        "outputId": "3cb2dd9e-c44c-4563-cc83-35e6e298d9d7",
        "colab": {
          "base_uri": "https://localhost:8080/",
          "height": 321
        }
      },
      "outputs": [
        {
          "output_type": "error",
          "ename": "RuntimeError",
          "evalue": "ignored",
          "traceback": [
            "\u001b[0;31m---------------------------------------------------------------------------\u001b[0m",
            "\u001b[0;31mRuntimeError\u001b[0m                              Traceback (most recent call last)",
            "\u001b[0;32m<ipython-input-83-3b0d2010bf5e>\u001b[0m in \u001b[0;36m<module>\u001b[0;34m\u001b[0m\n\u001b[1;32m     17\u001b[0m         \u001b[0mprint\u001b[0m\u001b[0;34m(\u001b[0m\u001b[0;34m\"Accuracy {}: {:.2f}\"\u001b[0m\u001b[0;34m.\u001b[0m\u001b[0mformat\u001b[0m\u001b[0;34m(\u001b[0m\u001b[0mname\u001b[0m \u001b[0;34m,\u001b[0m \u001b[0mcorrect\u001b[0m \u001b[0;34m/\u001b[0m \u001b[0mtotal\u001b[0m\u001b[0;34m)\u001b[0m\u001b[0;34m)\u001b[0m\u001b[0;34m\u001b[0m\u001b[0;34m\u001b[0m\u001b[0m\n\u001b[1;32m     18\u001b[0m \u001b[0;34m\u001b[0m\u001b[0m\n\u001b[0;32m---> 19\u001b[0;31m \u001b[0mvalidate\u001b[0m\u001b[0;34m(\u001b[0m\u001b[0mmodel\u001b[0m\u001b[0;34m,\u001b[0m \u001b[0mtrain_loader\u001b[0m\u001b[0;34m,\u001b[0m \u001b[0mval_loader\u001b[0m\u001b[0;34m)\u001b[0m\u001b[0;34m\u001b[0m\u001b[0;34m\u001b[0m\u001b[0m\n\u001b[0m",
            "\u001b[0;32m<ipython-input-83-3b0d2010bf5e>\u001b[0m in \u001b[0;36mvalidate\u001b[0;34m(model, train_loader, val_loader)\u001b[0m\n\u001b[1;32m     14\u001b[0m                 \u001b[0mtotal\u001b[0m \u001b[0;34m+=\u001b[0m \u001b[0mlabels\u001b[0m\u001b[0;34m.\u001b[0m\u001b[0mshape\u001b[0m\u001b[0;34m[\u001b[0m\u001b[0;36m0\u001b[0m\u001b[0;34m]\u001b[0m\u001b[0;34m\u001b[0m\u001b[0;34m\u001b[0m\u001b[0m\n\u001b[1;32m     15\u001b[0m                 \u001b[0;31m# metrics: Acc, F1, AUC, Precision, Recall,\u001b[0m\u001b[0;34m\u001b[0m\u001b[0;34m\u001b[0m\u001b[0;34m\u001b[0m\u001b[0m\n\u001b[0;32m---> 16\u001b[0;31m                 \u001b[0mcorrect\u001b[0m \u001b[0;34m+=\u001b[0m \u001b[0mint\u001b[0m\u001b[0;34m(\u001b[0m\u001b[0;34m(\u001b[0m\u001b[0mpredicted\u001b[0m \u001b[0;34m==\u001b[0m \u001b[0mlabels\u001b[0m\u001b[0;34m)\u001b[0m\u001b[0;34m.\u001b[0m\u001b[0msum\u001b[0m\u001b[0;34m(\u001b[0m\u001b[0;34m)\u001b[0m\u001b[0;34m)\u001b[0m\u001b[0;34m\u001b[0m\u001b[0;34m\u001b[0m\u001b[0m\n\u001b[0m\u001b[1;32m     17\u001b[0m         \u001b[0mprint\u001b[0m\u001b[0;34m(\u001b[0m\u001b[0;34m\"Accuracy {}: {:.2f}\"\u001b[0m\u001b[0;34m.\u001b[0m\u001b[0mformat\u001b[0m\u001b[0;34m(\u001b[0m\u001b[0mname\u001b[0m \u001b[0;34m,\u001b[0m \u001b[0mcorrect\u001b[0m \u001b[0;34m/\u001b[0m \u001b[0mtotal\u001b[0m\u001b[0;34m)\u001b[0m\u001b[0;34m)\u001b[0m\u001b[0;34m\u001b[0m\u001b[0;34m\u001b[0m\u001b[0m\n\u001b[1;32m     18\u001b[0m \u001b[0;34m\u001b[0m\u001b[0m\n",
            "\u001b[0;31mRuntimeError\u001b[0m: The size of tensor a (49) must match the size of tensor b (64) at non-singleton dimension 0"
          ]
        }
      ],
      "source": [
        "# Testing metric\n",
        "train_loader = torch.utils.data.DataLoader(df, batch_size=32,\n",
        "                                            shuffle=False)\n",
        "test_loader = torch.utils.data.DataLoader(df_test, batch_size=32,\n",
        "                                            shuffle=False)\n",
        "def validate(model, train_loader, val_loader):\n",
        "    for name, loader in [(\"train\", train_loader), (\"val\", val_loader)]:\n",
        "        correct = 0\n",
        "        total = 0\n",
        "        with torch.no_grad():\n",
        "            for imgs, labels in loader:\n",
        "                outputs = model(imgs)\n",
        "                _, predicted = torch.max(outputs, dim=1)\n",
        "                total += labels.shape[0]\n",
        "                # metrics: Acc, F1, AUC, Precision, Recall, \n",
        "                correct += int((predicted == labels).sum())\n",
        "        print(\"Accuracy {}: {:.2f}\".format(name , correct / total))\n",
        "        #print(\"F1 Score: ....\")\n",
        "        #print(\"AUC: .......\")\n",
        "        #print(\"Precision: ....\")\n",
        "        #print(\"Recall: .......\")\n",
        "\n",
        "validate(model, train_loader, test_loader)\n"
      ]
    },
    {
      "cell_type": "markdown",
      "source": [
        "*De acuerdo a los resultados anteriores, se define que el modelo CNN construido para clasificar en letras del japonés clásico imagenes de texto reimpreso es ......................... BUENO/MALO ......................., esto fundamentado en los valores de:*\n",
        "\n",
        "*  .......................... \"Accuracy\" que obtuvo un valor XXXXXX, indicando que es capaz de acertar en el XX% de los casos......................*\n",
        "\n",
        "* *Por otro lado, se puede mencionar, también, que F1 Score alcanza un nivel de .................XX, traduciendose en que el modelo ............(relacionarlo con las imagenes y letras japonesas)..................................*\n",
        "\n",
        "* .....................\"otras metricas*............................."
      ],
      "metadata": {
        "id": "ztQG8yyh98p4"
      },
      "id": "ztQG8yyh98p4"
    }
  ],
  "metadata": {
    "kernelspec": {
      "display_name": "Python 3 (ipykernel)",
      "language": "python",
      "name": "python3"
    },
    "language_info": {
      "codemirror_mode": {
        "name": "ipython",
        "version": 3
      },
      "file_extension": ".py",
      "mimetype": "text/x-python",
      "name": "python",
      "nbconvert_exporter": "python",
      "pygments_lexer": "ipython3",
      "version": "3.8.11"
    },
    "colab": {
      "provenance": [],
      "collapsed_sections": [],
      "include_colab_link": true
    }
  },
  "nbformat": 4,
  "nbformat_minor": 5
}